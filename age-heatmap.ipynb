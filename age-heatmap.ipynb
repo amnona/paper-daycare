{
 "cells": [
  {
   "cell_type": "code",
   "execution_count": 1,
   "metadata": {},
   "outputs": [
    {
     "name": "stdout",
     "output_type": "stream",
     "text": [
      "failed to load logging config file\n"
     ]
    }
   ],
   "source": [
    "import calour as ca\n",
    "import calour_utils as cu"
   ]
  },
  {
   "cell_type": "code",
   "execution_count": 2,
   "metadata": {},
   "outputs": [],
   "source": [
    "import matplotlib.pyplot as plt\n",
    "%matplotlib inline\n",
    "import numpy as np\n",
    "import matplotlib as mpl\n",
    "import pandas as pd\n",
    "import scipy as sp"
   ]
  },
  {
   "cell_type": "code",
   "execution_count": 3,
   "metadata": {},
   "outputs": [
    {
     "data": {
      "text/plain": [
       "'/Users/amnon/git/paper-daycare'"
      ]
     },
     "execution_count": 3,
     "metadata": {},
     "output_type": "execute_result"
    }
   ],
   "source": [
    "pwd"
   ]
  },
  {
   "cell_type": "code",
   "execution_count": 4,
   "metadata": {},
   "outputs": [],
   "source": [
    "ca.set_log_level(11)"
   ]
  },
  {
   "cell_type": "code",
   "execution_count": 5,
   "metadata": {},
   "outputs": [
    {
     "name": "stdout",
     "output_type": "stream",
     "text": [
      "creating logger\n"
     ]
    }
   ],
   "source": [
    "db=ca.database._get_database_class('dbbact')"
   ]
  },
  {
   "cell_type": "markdown",
   "metadata": {},
   "source": [
    "# Load the data"
   ]
  },
  {
   "cell_type": "code",
   "execution_count": 55,
   "metadata": {},
   "outputs": [
    {
     "name": "stdout",
     "output_type": "stream",
     "text": [
      "2021-10-04 10:26:08 INFO loaded 268 samples, 928 features\n",
      "2021-10-04 10:26:08 WARNING Do you forget to normalize your data? It is required before running this function\n",
      "2021-10-04 10:26:08 INFO After filtering, 268 remain.\n"
     ]
    }
   ],
   "source": [
    "gan=ca.read_amplicon('data/gan-normalized.biom','data/gan-normalized_sample.txt',feature_metadata_file='data/gan-normalized_feature.txt',min_reads=10,normalize=100)"
   ]
  },
  {
   "cell_type": "code",
   "execution_count": 56,
   "metadata": {},
   "outputs": [],
   "source": [
    "gan=gan.sort_samples('pn_ID')\n",
    "gan=gan.sort_samples('Time')"
   ]
  },
  {
   "cell_type": "markdown",
   "metadata": {},
   "source": [
    "# Age related bacteria\n",
    "## look only at first timepoint, so single sample per individual, without effect of entering kindergarten"
   ]
  },
  {
   "cell_type": "code",
   "execution_count": 57,
   "metadata": {},
   "outputs": [
    {
     "name": "stdout",
     "output_type": "stream",
     "text": [
      "2021-10-04 10:26:13 INFO After filtering, 564 remain.\n",
      "2021-10-04 10:26:14 INFO Positive correlated features : 103. Negative correlated features : 13. total 116\n"
     ]
    }
   ],
   "source": [
    "tt=gan.filter_samples('Time',1)\n",
    "dd=tt.correlation('age_months',random_seed=2020)"
   ]
  },
  {
   "cell_type": "code",
   "execution_count": 58,
   "metadata": {},
   "outputs": [],
   "source": [
    "# taxonomy colors\n",
    "\n",
    "taxcolors={}\n",
    "taxcolors['_c__Clostridia']='g'\n",
    "taxcolors['_c__Bacteroidia']='b'\n",
    "taxcolors['_c__Gammaproteobacteria']='r'\n",
    "taxcolors['_c__Bacilli']='y'\n",
    "taxcolors['_c__Erysipelotrichi']='cyan'\n",
    "taxcolors['_c__Coriobacteriia']='magenta'\n",
    "taxcolors['_c__Betaproteobacteria']='black'\n",
    "taxcolors['Other']='grey'\n",
    "\n",
    "alltaxcolors={}\n",
    "for ctax in gan.feature_metadata['class'].unique():\n",
    "    alltaxcolors[ctax]='grey'\n",
    "    \n",
    "alltaxcolors.update(taxcolors)\n"
   ]
  },
  {
   "cell_type": "code",
   "execution_count": 59,
   "metadata": {},
   "outputs": [
    {
     "name": "stdout",
     "output_type": "stream",
     "text": [
      "2021-10-04 10:26:25 WARNING You need to set up jupyter notebook with `%matplotlib notebook`\n"
     ]
    },
    {
     "name": "stderr",
     "output_type": "stream",
     "text": [
      "/Users/amnon/git/calour/calour/heatmap/heatmap.py:308: MatplotlibDeprecationWarning: You are modifying the state of a globally registered colormap. In future versions, you will not be able to modify a registered colormap in-place. To remove this warning, you can make a copy of the colormap first. cmap = copy.copy(mpl.cm.get_cmap(\"viridis\"))\n",
      "  cmap.set_bad(bad_color)\n"
     ]
    },
    {
     "data": {
      "application/vnd.jupyter.widget-view+json": {
       "model_id": "cb7952fb9ab845bca28603e12512176a",
       "version_major": 2,
       "version_minor": 0
      },
      "text/plain": [
       "Label(value='0 features are selected')"
      ]
     },
     "metadata": {},
     "output_type": "display_data"
    },
    {
     "data": {
      "application/vnd.jupyter.widget-view+json": {
       "model_id": "1d221feb7e3c412ba7347deda5f68b5a",
       "version_major": 2,
       "version_minor": 0
      },
      "text/plain": [
       "HBox(children=(Text(value='-', description='Sample ID', layout=Layout(width='100%'), placeholder='Sample ID'),…"
      ]
     },
     "metadata": {},
     "output_type": "display_data"
    },
    {
     "data": {
      "application/vnd.jupyter.widget-view+json": {
       "model_id": "47570efe307f49e48443eac7a3ad3026",
       "version_major": 2,
       "version_minor": 0
      },
      "text/plain": [
       "HBox(children=(Dropdown(layout=Layout(width='20%'), options=('BarcodeSequence', 'LinkerPrimerSequence', 'Datab…"
      ]
     },
     "metadata": {},
     "output_type": "display_data"
    },
    {
     "data": {
      "application/vnd.jupyter.widget-view+json": {
       "model_id": "f412a3acd62f4088802ee6fbb52d0e9c",
       "version_major": 2,
       "version_minor": 0
      },
      "text/plain": [
       "HBox(children=(Dropdown(layout=Layout(width='20%'), options=('Taxon', 'Confidence', 'SV_number', '_feature_id'…"
      ]
     },
     "metadata": {},
     "output_type": "display_data"
    },
    {
     "data": {
      "application/vnd.jupyter.widget-view+json": {
       "model_id": "9f312f2d6ebf410186087ba3f430e851",
       "version_major": 2,
       "version_minor": 0
      },
      "text/plain": [
       "HBox(children=(Button(description='print axes ranges', style=ButtonStyle(), tooltip='Print the x axis and y ax…"
      ]
     },
     "metadata": {},
     "output_type": "display_data"
    },
    {
     "data": {
      "application/vnd.jupyter.widget-view+json": {
       "model_id": "93f2fb1d0a39464f89c22537292a5051",
       "version_major": 2,
       "version_minor": 0
      },
      "text/plain": [
       "HTML(value='no annotation found', layout=Layout(height='100px', overflow_y='auto'))"
      ]
     },
     "metadata": {},
     "output_type": "display_data"
    },
    {
     "data": {
      "image/png": "[encoded data removed]",
      "text/plain": [
       "<Figure size 432x288 with 4 Axes>"
      ]
     },
     "metadata": {
      "needs_background": "light"
     },
     "output_type": "display_data"
    }
   ],
   "source": [
    "dd=dd.sort_samples('age_months')\n",
    "f=dd.plot('age_months',gui='jupyter',bary_fields=['class'],bary_label=False,bary_colors=alltaxcolors)\n",
    "f.figure.savefig('figures/heatmap-age-dependent.pdf')"
   ]
  },
  {
   "cell_type": "markdown",
   "metadata": {},
   "source": [
    "## And save the legend for the taxonomy colors\n",
    "(we cut it from this figure)"
   ]
  },
  {
   "cell_type": "code",
   "execution_count": 60,
   "metadata": {},
   "outputs": [
    {
     "data": {
      "image/png": "[encoded data removed]",
      "text/plain": [
       "<Figure size 432x288 with 1 Axes>"
      ]
     },
     "metadata": {
      "needs_background": "light"
     },
     "output_type": "display_data"
    }
   ],
   "source": [
    "f=plt.figure()\n",
    "labels=[]\n",
    "for ck,cv in taxcolors.items():\n",
    "    plt.plot([0],[0],'o',c=cv)\n",
    "    labels.append(ck.split('_')[-1])\n",
    "plt.legend(labels)\n",
    "f.savefig('figures/tax-colors.pdf')"
   ]
  },
  {
   "cell_type": "code",
   "execution_count": null,
   "metadata": {},
   "outputs": [],
   "source": []
  }
 ],
 "metadata": {
  "kernelspec": {
   "display_name": "Python 3",
   "language": "python",
   "name": "python3"
  },
  "language_info": {
   "codemirror_mode": {
    "name": "ipython",
    "version": 3
   },
   "file_extension": ".py",
   "mimetype": "text/x-python",
   "name": "python",
   "nbconvert_exporter": "python",
   "pygments_lexer": "ipython3",
   "version": "3.9.5"
  }
 },
 "nbformat": 4,
 "nbformat_minor": 4
}
