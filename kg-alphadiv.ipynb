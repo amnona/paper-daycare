{
 "cells": [
  {
   "cell_type": "code",
   "execution_count": 2,
   "metadata": {},
   "outputs": [
    {
     "name": "stdout",
     "output_type": "stream",
     "text": [
      "failed to load logging config file\n"
     ]
    }
   ],
   "source": [
    "import calour as ca\n",
    "import calour_utils as cu"
   ]
  },
  {
   "cell_type": "code",
   "execution_count": 3,
   "metadata": {},
   "outputs": [],
   "source": [
    "import matplotlib.pyplot as plt\n",
    "%matplotlib inline\n",
    "import scipy\n",
    "import numpy as np\n",
    "import matplotlib as mpl\n",
    "import pandas as pd\n",
    "import scipy as sp;\n"
   ]
  },
  {
   "cell_type": "code",
   "execution_count": 4,
   "metadata": {},
   "outputs": [
    {
     "data": {
      "text/plain": [
       "'/Users/amnon/git/paper-daycare'"
      ]
     },
     "execution_count": 4,
     "metadata": {},
     "output_type": "execute_result"
    }
   ],
   "source": [
    "pwd"
   ]
  },
  {
   "cell_type": "code",
   "execution_count": 5,
   "metadata": {},
   "outputs": [],
   "source": [
    "ca.set_log_level(11)"
   ]
  },
  {
   "cell_type": "code",
   "execution_count": 6,
   "metadata": {},
   "outputs": [],
   "source": [
    "%matplotlib inline"
   ]
  },
  {
   "cell_type": "code",
   "execution_count": 7,
   "metadata": {},
   "outputs": [
    {
     "name": "stdout",
     "output_type": "stream",
     "text": [
      "creating logger\n"
     ]
    }
   ],
   "source": [
    "db=ca.database._get_database_class('dbbact')"
   ]
  },
  {
   "cell_type": "markdown",
   "metadata": {},
   "source": [
    "# Load the (rarified) data"
   ]
  },
  {
   "cell_type": "code",
   "execution_count": 28,
   "metadata": {},
   "outputs": [
    {
     "name": "stdout",
     "output_type": "stream",
     "text": [
      "2021-10-05 17:57:03 INFO loaded 268 samples, 14052 features\n",
      "2021-10-05 17:57:03 WARNING Do you forget to normalize your data? It is required before running this function\n",
      "2021-10-05 17:57:03 INFO After filtering, 268 remain.\n"
     ]
    }
   ],
   "source": [
    "datn = ca.read_amplicon('data/gan-subsampled.biom', 'data/gan-subsampled_sample.txt', min_reads=1000, normalize=None)"
   ]
  },
  {
   "cell_type": "markdown",
   "metadata": {},
   "source": [
    "## Now load the 10 additional rarified experiments"
   ]
  },
  {
   "cell_type": "code",
   "execution_count": 29,
   "metadata": {},
   "outputs": [],
   "source": [
    "datr = datn.copy()"
   ]
  },
  {
   "cell_type": "code",
   "execution_count": 30,
   "metadata": {},
   "outputs": [
    {
     "name": "stdout",
     "output_type": "stream",
     "text": [
      "2021-10-05 17:57:04 INFO loaded 268 samples, 14052 features\n",
      "2021-10-05 17:57:05 WARNING Do you forget to normalize your data? It is required before running this function\n",
      "2021-10-05 17:57:05 INFO After filtering, 268 remain.\n",
      "2021-10-05 17:57:05 INFO Both experiments contain same sample IDs - adding prefixes\n",
      "2021-10-05 17:57:09 INFO loaded 268 samples, 14052 features\n",
      "2021-10-05 17:57:10 WARNING Do you forget to normalize your data? It is required before running this function\n",
      "2021-10-05 17:57:10 INFO After filtering, 268 remain.\n",
      "2021-10-05 17:57:14 INFO loaded 268 samples, 14052 features\n",
      "2021-10-05 17:57:15 WARNING Do you forget to normalize your data? It is required before running this function\n",
      "2021-10-05 17:57:15 INFO After filtering, 268 remain.\n",
      "2021-10-05 17:57:15 INFO Both experiments contain same sample IDs - adding prefixes\n",
      "2021-10-05 17:57:20 INFO loaded 268 samples, 14052 features\n",
      "2021-10-05 17:57:20 WARNING Do you forget to normalize your data? It is required before running this function\n",
      "2021-10-05 17:57:20 INFO After filtering, 268 remain.\n",
      "2021-10-05 17:57:26 INFO loaded 268 samples, 14052 features\n",
      "2021-10-05 17:57:26 WARNING Do you forget to normalize your data? It is required before running this function\n",
      "2021-10-05 17:57:26 INFO After filtering, 268 remain.\n",
      "2021-10-05 17:57:26 INFO Both experiments contain same sample IDs - adding prefixes\n",
      "2021-10-05 17:57:32 INFO loaded 268 samples, 14052 features\n",
      "2021-10-05 17:57:32 WARNING Do you forget to normalize your data? It is required before running this function\n",
      "2021-10-05 17:57:32 INFO After filtering, 268 remain.\n",
      "2021-10-05 17:57:38 INFO loaded 268 samples, 14052 features\n",
      "2021-10-05 17:57:38 WARNING Do you forget to normalize your data? It is required before running this function\n",
      "2021-10-05 17:57:38 INFO After filtering, 268 remain.\n",
      "2021-10-05 17:57:38 INFO Both experiments contain same sample IDs - adding prefixes\n",
      "2021-10-05 17:57:44 INFO loaded 268 samples, 14052 features\n",
      "2021-10-05 17:57:44 WARNING Do you forget to normalize your data? It is required before running this function\n",
      "2021-10-05 17:57:44 INFO After filtering, 268 remain.\n",
      "2021-10-05 17:57:50 INFO loaded 268 samples, 14052 features\n",
      "2021-10-05 17:57:50 WARNING Do you forget to normalize your data? It is required before running this function\n",
      "2021-10-05 17:57:50 INFO After filtering, 268 remain.\n",
      "2021-10-05 17:57:50 INFO Both experiments contain same sample IDs - adding prefixes\n",
      "2021-10-05 17:58:03 INFO loaded 268 samples, 14052 features\n",
      "2021-10-05 17:58:03 WARNING Do you forget to normalize your data? It is required before running this function\n",
      "2021-10-05 17:58:03 INFO After filtering, 268 remain.\n"
     ]
    }
   ],
   "source": [
    "for i in range(10):\n",
    "    exp = ca.read_amplicon('./data/rarefactions/gan-subsampled-%s.biom' % i, 'data/gan-subsampled_sample.txt', min_reads=1000, normalize=None)\n",
    "    datr=datr.join_experiments(exp, 'exp-%s' % i, prefixes=['o','j'])"
   ]
  },
  {
   "cell_type": "markdown",
   "metadata": {},
   "source": [
    "### Get rid of features with 0 reads"
   ]
  },
  {
   "cell_type": "code",
   "execution_count": 31,
   "metadata": {},
   "outputs": [
    {
     "name": "stdout",
     "output_type": "stream",
     "text": [
      "2021-10-05 17:58:10 WARNING Do you forget to normalize your data? It is required before running this function\n",
      "2021-10-05 17:58:10 INFO After filtering, 1274 remain.\n",
      "2021-10-05 17:58:10 WARNING Do you forget to normalize your data? It is required before running this function\n",
      "2021-10-05 17:58:10 INFO After filtering, 1452 remain.\n"
     ]
    }
   ],
   "source": [
    "datn=datn.filter_sum_abundance(0.000001)\n",
    "datr=datr.filter_sum_abundance(0.000001)"
   ]
  },
  {
   "cell_type": "code",
   "execution_count": 32,
   "metadata": {},
   "outputs": [
    {
     "name": "stderr",
     "output_type": "stream",
     "text": [
      "/Users/amnon/git/calour/calour/heatmap/heatmap.py:308: MatplotlibDeprecationWarning: You are modifying the state of a globally registered colormap. In future versions, you will not be able to modify a registered colormap in-place. To remove this warning, you can make a copy of the colormap first. cmap = copy.copy(mpl.cm.get_cmap(\"viridis\"))\n",
      "  cmap.set_bad(bad_color)\n"
     ]
    },
    {
     "data": {
      "image/png": "[encoded data removed]",
      "text/plain": [
       "<Figure size 432x288 with 4 Axes>"
      ]
     },
     "metadata": {
      "needs_background": "light"
     },
     "output_type": "display_data"
    },
    {
     "data": {
      "text/plain": [
       "<calour.heatmap.plotgui_cli.PlotGUI_CLI at 0x7fb2dadd1430>"
      ]
     },
     "execution_count": 32,
     "metadata": {},
     "output_type": "execute_result"
    }
   ],
   "source": [
    "datn.plot(sample_field='kindergarten',barx_fields=['Time'])"
   ]
  },
  {
   "cell_type": "markdown",
   "metadata": {},
   "source": [
    "# Plot the alpha-diversity plot"
   ]
  },
  {
   "cell_type": "code",
   "execution_count": 33,
   "metadata": {},
   "outputs": [],
   "source": [
    "datr.sparse=False"
   ]
  },
  {
   "cell_type": "code",
   "execution_count": 34,
   "metadata": {},
   "outputs": [],
   "source": [
    "def get_sample_alpha(exp):\n",
    "    alpha = {}\n",
    "    alphastd = {}\n",
    "    for cid, cexp in exp.iterate('sample_ID'):\n",
    "        cnum = (cexp.data>0).sum(axis = 1)\n",
    "        alpha[cid] = np.mean(cnum)\n",
    "        alphastd[cid] = np.std(cnum)\n",
    "    return alpha, alphastd"
   ]
  },
  {
   "cell_type": "code",
   "execution_count": 35,
   "metadata": {},
   "outputs": [],
   "source": [
    "allmean,allstd=get_sample_alpha(datr)"
   ]
  },
  {
   "cell_type": "code",
   "execution_count": 36,
   "metadata": {},
   "outputs": [],
   "source": [
    "dats=datn.copy()\n",
    "for cid in allmean.keys():\n",
    "    dats.sample_metadata.loc[dats.sample_metadata['sample_ID']==cid,'avgspecies'] = allmean[cid]\n",
    "    dats.sample_metadata.loc[dats.sample_metadata['sample_ID']==cid,'stdspecies'] = allstd[cid]\n"
   ]
  },
  {
   "cell_type": "code",
   "execution_count": 37,
   "metadata": {},
   "outputs": [],
   "source": [
    "datn.sample_metadata['avgspecies'] = np.sum(datn.data>0, axis=1)"
   ]
  },
  {
   "cell_type": "code",
   "execution_count": 38,
   "metadata": {},
   "outputs": [
    {
     "name": "stdout",
     "output_type": "stream",
     "text": [
      "AmpliconExperiment with 41 samples, 1274 features\n",
      "AmpliconExperiment with 54 samples, 1274 features\n",
      "AmpliconExperiment with 52 samples, 1274 features\n",
      "AmpliconExperiment with 57 samples, 1274 features\n",
      "AmpliconExperiment with 40 samples, 1274 features\n",
      "AmpliconExperiment with 24 samples, 1274 features\n"
     ]
    },
    {
     "data": {
      "text/plain": [
       "<matplotlib.legend.Legend at 0x7fb2bf7124c0>"
      ]
     },
     "execution_count": 38,
     "metadata": {},
     "output_type": "execute_result"
    },
    {
     "data": {
      "image/png": "[encoded data removed]",
      "text/plain": [
       "<Figure size 432x288 with 1 Axes>"
      ]
     },
     "metadata": {
      "needs_background": "light"
     },
     "output_type": "display_data"
    }
   ],
   "source": [
    "f=plt.figure()\n",
    "tt=dats.filter_samples('kindergarten',['Home','Family'],negate=True)\n",
    "tt=tt.filter_samples('Time',1)\n",
    "print(tt)\n",
    "plt.errorbar(tt.sample_metadata.age_months,tt.sample_metadata.avgspecies,yerr=tt.sample_metadata.stdspecies,fmt='o',c=[0.8,0.8,1,1],ecolor='k',barsabove=True)\n",
    "tt=dats.filter_samples('Time',2)\n",
    "print(tt)\n",
    "plt.errorbar(tt.sample_metadata.age_months,tt.sample_metadata.avgspecies,yerr=tt.sample_metadata.stdspecies,fmt='o',c=[0.6,0.6,1,1],ecolor='k',barsabove=True)\n",
    "tt=dats.filter_samples('Time',3)\n",
    "print(tt)\n",
    "plt.errorbar(tt.sample_metadata.age_months,tt.sample_metadata.avgspecies,yerr=tt.sample_metadata.stdspecies,fmt='o',c=[0.2,0.2,1,1],ecolor='k',barsabove=True)\n",
    "tt=dats.filter_samples('kindergarten',['Home','Family'],negate=True)\n",
    "tt=dats.filter_samples('Time',4)\n",
    "print(tt)\n",
    "plt.errorbar(tt.sample_metadata.age_months,tt.sample_metadata.avgspecies,yerr=tt.sample_metadata.stdspecies,fmt='o',c=[0,0,1,1],ecolor='k',barsabove=True)\n",
    "tt=dats.filter_samples('Time',5)\n",
    "print(tt)\n",
    "plt.errorbar(tt.sample_metadata.age_months,tt.sample_metadata.avgspecies,yerr=tt.sample_metadata.stdspecies,fmt='o',c=[0,0,0.5,1],ecolor='k',barsabove=True)\n",
    "tt=dats.filter_samples('kindergarten','Home')\n",
    "print(tt)\n",
    "plt.errorbar(tt.sample_metadata.age_months,tt.sample_metadata.avgspecies,yerr=tt.sample_metadata.stdspecies,fmt='o',c=[1,0,0,1],ecolor='k',barsabove=True)\n",
    "plt.xlim([0,35])\n",
    "plt.ylim([0,220])\n",
    "plt.xlabel('Age (months)')\n",
    "plt.ylabel('Number of species')\n",
    "plt.legend(['Day care sample 1','Day care sample 2','Day care sample 3','Day care sample 4','Day care sample 5','Home care'])"
   ]
  },
  {
   "cell_type": "code",
   "execution_count": 39,
   "metadata": {},
   "outputs": [],
   "source": [
    "f.savefig('figures/fig-alpha-age-scatter.pdf')"
   ]
  },
  {
   "cell_type": "markdown",
   "metadata": {},
   "source": [
    "# Do age binning and p-value for alpha diversity"
   ]
  },
  {
   "cell_type": "code",
   "execution_count": 19,
   "metadata": {},
   "outputs": [],
   "source": [
    "def draw_age_alpha_onebar(threshold=0.5):\n",
    "    '''Draw the per age-bin alpha diversity from home and kindergarten kids, and print the significance\n",
    "    \n",
    "    Parameters\n",
    "    ----------\n",
    "    threshold: float, optional\n",
    "        the minimal number of reads for a feature to be defined as present\n",
    "        \n",
    "    \n",
    "    Returns\n",
    "    f: matplotlib.figure\n",
    "        the figure with the bar plot\n",
    "    '''\n",
    "    f=plt.figure()\n",
    "    colors=['r']\n",
    "    colors.extend(list(plt.cm.Blues(np.linspace(0.5,1,5))))\n",
    "    res=pd.DataFrame(columns=['age','hmean','gmean', 'hstd', 'gstd','agegrp'])\n",
    "#     tt.sample_metadata['avgspecies']=np.sum(tt.data>=threshold,axis=1)\n",
    "    for cage_cat, cexp in tt.iterate('age_cat', axis=0):\n",
    "        cage_cat_num = cexp.sample_metadata.iloc[0]['age_cat_num']\n",
    "        tthome = cexp.filter_samples('kindergarten','Home')\n",
    "        ttgan = cexp.filter_samples('kindergarten','Home',negate=True)\n",
    "        alpha_home=np.nanmean(tthome.sample_metadata['avgspecies'])\n",
    "        alpha_gan=np.nanmean(ttgan.sample_metadata['avgspecies'])\n",
    "        alpha_home_std=np.nanstd(tthome.sample_metadata['avgspecies']) / np.sqrt(len(tthome.sample_metadata))\n",
    "        alpha_gan_std=np.nanstd(ttgan.sample_metadata['avgspecies']) / np.sqrt(len(ttgan.sample_metadata))\n",
    "        print('age %s, home: %f, gan: %f' % (cage_cat, alpha_home, alpha_gan))\n",
    "        print(sp.stats.mannwhitneyu(tthome.sample_metadata['avgspecies'],ttgan.sample_metadata['avgspecies']))\n",
    "        print('gan %d samples, home %d samples' % (len(ttgan.sample_metadata), len(tthome.sample_metadata)))\n",
    "        plt.bar(cage_cat_num, alpha_home, yerr=alpha_home_std, width=1.5, color=colors[0])\n",
    "        plt.bar(cage_cat_num+1.5, alpha_gan, yerr=alpha_gan_std, width=1.5, color=colors[1])\n",
    "    plt.ylim([0,120])\n",
    "    plt.xlim([8,34])\n",
    "    plt.legend(['Home care','Day care'],loc='upper left')\n",
    "    plt.xticks(res['age']+1,res['agegrp'])\n",
    "    plt.ylabel('number of species')\n",
    "    return f"
   ]
  },
  {
   "cell_type": "markdown",
   "metadata": {},
   "source": [
    "### Add age bin (0-5, 5-10 months etc.) to each sample"
   ]
  },
  {
   "cell_type": "code",
   "execution_count": 169,
   "metadata": {},
   "outputs": [],
   "source": [
    "tt=cu.numeric_to_categories(dats,'age_months','age_cat',np.arange(0,35,5),inplace=False)"
   ]
  },
  {
   "cell_type": "code",
   "execution_count": 170,
   "metadata": {},
   "outputs": [
    {
     "data": {
      "text/plain": [
       "10-15    87\n",
       "15-20    54\n",
       "5-10     47\n",
       "20-25    44\n",
       "25-30    26\n",
       ">30       8\n",
       "0-5       2\n",
       "Name: age_cat, dtype: int64"
      ]
     },
     "execution_count": 170,
     "metadata": {},
     "output_type": "execute_result"
    }
   ],
   "source": [
    "tt.sample_metadata.age_cat.value_counts()"
   ]
  },
  {
   "cell_type": "markdown",
   "metadata": {},
   "source": [
    "### Get rid of timepoint1 samples (since did not have time to mingle in the kindergarten)"
   ]
  },
  {
   "cell_type": "code",
   "execution_count": 171,
   "metadata": {},
   "outputs": [],
   "source": [
    "tt=tt.filter_samples('Time',[1],negate=True)"
   ]
  },
  {
   "cell_type": "code",
   "execution_count": 172,
   "metadata": {},
   "outputs": [
    {
     "data": {
      "text/plain": [
       "10-15    75\n",
       "15-20    51\n",
       "20-25    38\n",
       "5-10     33\n",
       "25-30    21\n",
       ">30       8\n",
       "0-5       1\n",
       "Name: age_cat, dtype: int64"
      ]
     },
     "execution_count": 172,
     "metadata": {},
     "output_type": "execute_result"
    }
   ],
   "source": [
    "tt.sample_metadata.age_cat.value_counts()"
   ]
  },
  {
   "cell_type": "code",
   "execution_count": 175,
   "metadata": {},
   "outputs": [
    {
     "name": "stdout",
     "output_type": "stream",
     "text": [
      "age 10-15, home: 53.171717, gan: 66.560606\n",
      "MannwhitneyuResult(statistic=197.5, pvalue=0.05324726879944413)\n",
      "gan 66 samples, home 9 samples\n",
      "age 5-10, home: 39.363636, gan: 44.973485\n",
      "MannwhitneyuResult(statistic=78.5, pvalue=0.12052758369985261)\n",
      "gan 24 samples, home 9 samples\n",
      "age >30, home: 58.818182, gan: 109.038961\n",
      "MannwhitneyuResult(statistic=1.0, pvalue=0.19136654444261297)\n",
      "gan 7 samples, home 1 samples\n",
      "age 25-30, home: 89.454545, gan: 111.416268\n",
      "MannwhitneyuResult(statistic=3.0, pvalue=0.031653363113564224)\n",
      "gan 19 samples, home 2 samples\n",
      "age 20-25, home: 85.090909, gan: 105.716883\n",
      "MannwhitneyuResult(statistic=25.0, pvalue=0.07192593482742682)\n",
      "gan 35 samples, home 3 samples\n",
      "age 15-20, home: nan, gan: 88.495544\n",
      "MannwhitneyuResult(statistic=0.0, pvalue=0.0)\n",
      "gan 51 samples, home 0 samples\n",
      "age 0-5, home: nan, gan: 41.090909\n",
      "MannwhitneyuResult(statistic=0.0, pvalue=0.0)\n",
      "gan 1 samples, home 0 samples\n"
     ]
    },
    {
     "name": "stderr",
     "output_type": "stream",
     "text": [
      "<ipython-input-163-aaf0b4e70b45>:23: RuntimeWarning: Mean of empty slice\n",
      "  alpha_home=np.nanmean(tthome.sample_metadata['avgspecies'])\n"
     ]
    },
    {
     "data": {
      "image/png": "[encoded data removed]",
      "text/plain": [
       "<Figure size 432x288 with 1 Axes>"
      ]
     },
     "metadata": {
      "needs_background": "light"
     },
     "output_type": "display_data"
    }
   ],
   "source": [
    "f = draw_age_alpha_onebar()"
   ]
  },
  {
   "cell_type": "code",
   "execution_count": 176,
   "metadata": {},
   "outputs": [],
   "source": [
    "f.savefig('./figures/alpha-barplot-age.pdf')"
   ]
  },
  {
   "cell_type": "markdown",
   "metadata": {},
   "source": [
    "# Look at correlation between age and alpha-diversity"
   ]
  },
  {
   "cell_type": "markdown",
   "metadata": {},
   "source": [
    "### Day-care"
   ]
  },
  {
   "cell_type": "code",
   "execution_count": 177,
   "metadata": {},
   "outputs": [],
   "source": [
    "tt=dats.filter_samples('kindergarten',['Home'],negate=True)"
   ]
  },
  {
   "cell_type": "code",
   "execution_count": 178,
   "metadata": {},
   "outputs": [
    {
     "data": {
      "text/plain": [
       "(0.6594310994311885, 7.943291488965394e-32)"
      ]
     },
     "execution_count": 178,
     "metadata": {},
     "output_type": "execute_result"
    }
   ],
   "source": [
    "sp.stats.pearsonr(tt.sample_metadata.age_months,tt.sample_metadata.avgspecies)"
   ]
  },
  {
   "cell_type": "code",
   "execution_count": 179,
   "metadata": {},
   "outputs": [
    {
     "data": {
      "text/plain": [
       "SpearmanrResult(correlation=0.7173200184786979, pvalue=7.514636888422434e-40)"
      ]
     },
     "execution_count": 179,
     "metadata": {},
     "output_type": "execute_result"
    }
   ],
   "source": [
    "sp.stats.spearmanr(tt.sample_metadata.age_months,tt.sample_metadata.avgspecies)"
   ]
  },
  {
   "cell_type": "code",
   "execution_count": 180,
   "metadata": {},
   "outputs": [
    {
     "data": {
      "text/plain": [
       "LinregressResult(slope=3.3979111878350654, intercept=22.88416210087567, rvalue=0.6594310994311882, pvalue=7.943291488966717e-32, stderr=0.2490101337211475, intercept_stderr=4.366367374221319)"
      ]
     },
     "execution_count": 180,
     "metadata": {},
     "output_type": "execute_result"
    }
   ],
   "source": [
    "sp.stats.linregress(tt.sample_metadata.age_months,tt.sample_metadata.avgspecies)"
   ]
  },
  {
   "cell_type": "markdown",
   "metadata": {},
   "source": [
    "### Home-care"
   ]
  },
  {
   "cell_type": "code",
   "execution_count": 182,
   "metadata": {},
   "outputs": [],
   "source": [
    "tth=dats.filter_samples('kindergarten',['Home'])"
   ]
  },
  {
   "cell_type": "code",
   "execution_count": 183,
   "metadata": {},
   "outputs": [
    {
     "data": {
      "text/plain": [
       "(0.67210610388437, 0.0003217119225773184)"
      ]
     },
     "execution_count": 183,
     "metadata": {},
     "output_type": "execute_result"
    }
   ],
   "source": [
    "sp.stats.pearsonr(tth.sample_metadata.age_months,tth.sample_metadata.avgspecies)"
   ]
  },
  {
   "cell_type": "code",
   "execution_count": 184,
   "metadata": {},
   "outputs": [
    {
     "data": {
      "text/plain": [
       "SpearmanrResult(correlation=0.6601435250642169, pvalue=0.0004476629585865884)"
      ]
     },
     "execution_count": 184,
     "metadata": {},
     "output_type": "execute_result"
    }
   ],
   "source": [
    "sp.stats.spearmanr(tth.sample_metadata.age_months,tth.sample_metadata.avgspecies)"
   ]
  },
  {
   "cell_type": "code",
   "execution_count": 185,
   "metadata": {},
   "outputs": [
    {
     "data": {
      "text/plain": [
       "LinregressResult(slope=2.0682433979364325, intercept=25.488051414145843, rvalue=0.67210610388437, pvalue=0.00032171192257731844, stderr=0.48579277218411465, intercept_stderr=7.8858145154131005)"
      ]
     },
     "execution_count": 185,
     "metadata": {},
     "output_type": "execute_result"
    }
   ],
   "source": [
    "sp.stats.linregress(tth.sample_metadata.age_months,tth.sample_metadata.avgspecies)"
   ]
  },
  {
   "cell_type": "markdown",
   "metadata": {},
   "source": [
    "# Calculate the p-value for the slope difference\n",
    "## Using random permutations of the kindergarten/home labels"
   ]
  },
  {
   "cell_type": "code",
   "execution_count": 186,
   "metadata": {},
   "outputs": [],
   "source": [
    "def get_slope_pval(exp, num_perm=1000):\n",
    "    '''Get the slope p-value using random label permutations\n",
    "    \n",
    "    Parameters\n",
    "    ----------\n",
    "    exp: calour.Experiment\n",
    "        The experiment to test\n",
    "    num_perm: int, optional\n",
    "        Number of permutations to test\n",
    "    \n",
    "    Returns:\n",
    "    res: list of float\n",
    "        The slope difference for each iteration.\n",
    "        NOTE: res[0] is without permutation, res[1:-1] are the permuted results\n",
    "    '''\n",
    "    res = []\n",
    "    np.random.seed(2020)\n",
    "    cexp = exp.copy()\n",
    "    for cperm in range(num_perm):\n",
    "        # calculate the slopes\n",
    "        tt=cexp.filter_samples('kindergarten',['Home'],negate=True)\n",
    "        dc=sp.stats.linregress(tt.sample_metadata.age_months,tt.sample_metadata.avgspecies)\n",
    "        tth=cexp.filter_samples('kindergarten',['Home'])\n",
    "        hc=sp.stats.linregress(tth.sample_metadata.age_months,tth.sample_metadata.avgspecies)\n",
    "        res.append(dc.slope-hc.slope)\n",
    "        # permute the kindergarten labels\n",
    "        cexp.sample_metadata['kindergarten']=cexp.sample_metadata['kindergarten'].sample(frac=1).values\n",
    "    print('orig_diff: %f' % res[0])\n",
    "    num_big = np.sum(np.abs(res)>=res[0])\n",
    "    print('pval: %d/%d=%f' % (num_big, len(res), num_big/len(res) ))\n",
    "    num_ss = np.sum(res>=res[0])\n",
    "    print('single sided pval: %d/%d=%f' % (num_ss, len(res), num_ss/len(res) ))\n",
    "    return res"
   ]
  },
  {
   "cell_type": "code",
   "execution_count": 187,
   "metadata": {},
   "outputs": [
    {
     "name": "stdout",
     "output_type": "stream",
     "text": [
      "orig_diff: 1.329668\n",
      "pval: 768/5000=0.153600\n",
      "single sided pval: 333/5000=0.066600\n"
     ]
    }
   ],
   "source": [
    "b=get_slope_pval(dats,5000)"
   ]
  },
  {
   "cell_type": "code",
   "execution_count": 188,
   "metadata": {},
   "outputs": [
    {
     "data": {
      "image/png": "[encoded data removed]",
      "text/plain": [
       "<Figure size 432x288 with 1 Axes>"
      ]
     },
     "metadata": {
      "needs_background": "light"
     },
     "output_type": "display_data"
    }
   ],
   "source": [
    "plt.figure()\n",
    "_=plt.hist(b,50)"
   ]
  },
  {
   "cell_type": "markdown",
   "metadata": {},
   "source": [
    "# Alpha diversity regression plot for day care and home care"
   ]
  },
  {
   "cell_type": "code",
   "execution_count": 40,
   "metadata": {},
   "outputs": [
    {
     "name": "stdout",
     "output_type": "stream",
     "text": [
      "day care pearson correlation:\n",
      "(0.6594310994311885, 7.943291488965394e-32)\n",
      "daycare - slope 3.397911, intercept 22.884162, rsq 0.434849\n",
      "home care pearson correlation:\n",
      "(0.67210610388437, 0.0003217119225773184)\n",
      "homecare - slope 2.068243, intercept 25.488051, rsq 0.451727\n",
      "69 cases where got >= diff\n",
      "pval 0.069930\n"
     ]
    },
    {
     "data": {
      "image/png": "[encoded data removed]",
      "text/plain": [
       "<Figure size 432x288 with 1 Axes>"
      ]
     },
     "metadata": {
      "needs_background": "light"
     },
     "output_type": "display_data"
    }
   ],
   "source": [
    "from sklearn.linear_model import LinearRegression\n",
    "from scipy.linalg import lstsq\n",
    "\n",
    "f=plt.figure()\n",
    "tt=dats.filter_samples('kindergarten',['Home'],negate=True)\n",
    "plt.plot(tt.sample_metadata.age_months,tt.sample_metadata.avgspecies,'o',c=[0.8,0.8,1,1])\n",
    "tt=dats.filter_samples('kindergarten',['Home'],negate=False)\n",
    "plt.plot(tt.sample_metadata.age_months,tt.sample_metadata.avgspecies,'o',c=[1,0,0,1])\n",
    "\n",
    "tt=dats.filter_samples('kindergarten',['Home'],negate=True)\n",
    "xpos=np.array(tt.sample_metadata.age_months).reshape(-1, 1)\n",
    "pearson = scipy.stats.pearsonr(tt.sample_metadata.age_months, tt.sample_metadata.avgspecies)\n",
    "print('day care pearson correlation:')\n",
    "print(pearson)\n",
    "reg = LinearRegression().fit(xpos,tt.sample_metadata.avgspecies)\n",
    "# reg = lstsq(tt.sample_metadata.age_months,tt.sample_metadata.avgspecies)\n",
    "x_pred = np.array([[0],[35]])\n",
    "y_pred = reg.predict(x_pred)\n",
    "plt.plot(x_pred,y_pred,'-')\n",
    "x_text=np.array([[17.5]])\n",
    "y_text = reg.predict(x_text)\n",
    "plt.text(x_text-5,y_text+20,'y=%.2f*x+%.2f' % (reg.coef_, reg.intercept_),size=14,c='b')\n",
    "plt.xlim([0,35])\n",
    "plt.ylim([0,200])\n",
    "print('daycare - slope %f, intercept %f, rsq %f' % (reg.coef_, reg.intercept_, reg.score(xpos, tt.sample_metadata.avgspecies)))\n",
    "rslope1 = reg.coef_\n",
    "\n",
    "tt=dats.filter_samples('kindergarten',['Home'],negate=False)\n",
    "xpos=np.array(tt.sample_metadata.age_months).reshape(-1, 1)\n",
    "pearson = scipy.stats.pearsonr(tt.sample_metadata.age_months, tt.sample_metadata.avgspecies)\n",
    "print('home care pearson correlation:')\n",
    "print(pearson)\n",
    "reg = LinearRegression().fit(xpos,tt.sample_metadata.avgspecies)\n",
    "print('homecare - slope %f, intercept %f, rsq %f' % (reg.coef_, reg.intercept_, reg.score(xpos, tt.sample_metadata.avgspecies)))\n",
    "# reg = lstsq(tt.sample_metadata.age_months,tt.sample_metadata.avgspecies)\n",
    "x_pred = np.array([[0],[35]])\n",
    "y_pred = reg.predict(x_pred)\n",
    "plt.plot(x_pred,y_pred,'-r')\n",
    "x_text=np.array([[17.5]])\n",
    "y_text = reg.predict(x_text)\n",
    "plt.text(x_text,y_text-20,'y=%.2f*x+%.2f' % (reg.coef_, reg.intercept_),size=14,c='r')\n",
    "rslope2 = reg.coef_\n",
    "plt.xlim([3,35])\n",
    "plt.ylim([0,200])\n",
    "\n",
    "# calculate p-value using 1000 random label permutations\n",
    "vals = []\n",
    "pdat=dats.copy()\n",
    "np.random.seed(2021)\n",
    "for cperm in range(1000):\n",
    "    pdat.sample_metadata['kindergarten'] = np.random.permutation(pdat.sample_metadata['kindergarten'])\n",
    "    tt=pdat.filter_samples('kindergarten',['Home'],negate=True)\n",
    "    xpos=np.array(tt.sample_metadata.age_months).reshape(-1, 1)\n",
    "    reg = LinearRegression().fit(xpos,tt.sample_metadata.avgspecies)\n",
    "    slope1 = reg.coef_\n",
    "    tt=pdat.filter_samples('kindergarten',['Home'],negate=False)\n",
    "    xpos=np.array(tt.sample_metadata.age_months).reshape(-1, 1)\n",
    "    reg = LinearRegression().fit(xpos,tt.sample_metadata.avgspecies)\n",
    "    slope2 = reg.coef_\n",
    "    vals.append(slope1-slope2)\n",
    "\n",
    "num_big = np.sum(np.array(vals) >= rslope1-rslope2)\n",
    "print('%d cases where got >= diff' % num_big)\n",
    "pval = ((num_big+1)/(len(vals)+1))\n",
    "print('pval %f' % pval)\n",
    "plt.title('pval %f' % pval)\n",
    "plt.xlabel('Age (months)')\n",
    "plt.ylabel('Number of species')\n",
    "plt.legend(['home care', 'day care'])\n",
    "\n",
    "f.savefig('supplementary/fig-alpha-regression.pdf')\n"
   ]
  },
  {
   "cell_type": "markdown",
   "metadata": {},
   "source": [
    "# Look also at 10k reads/sample for review"
   ]
  },
  {
   "cell_type": "code",
   "execution_count": 44,
   "metadata": {},
   "outputs": [
    {
     "name": "stdout",
     "output_type": "stream",
     "text": [
      "2021-10-05 17:59:32 INFO loaded 232 samples, 14052 features\n",
      "2021-10-05 17:59:33 WARNING Do you forget to normalize your data? It is required before running this function\n",
      "2021-10-05 17:59:33 INFO After filtering, 232 remain.\n"
     ]
    }
   ],
   "source": [
    "dat10k = ca.read_amplicon('./data/gan-subsampled-10k.biom', 'data/gan-subsampled-10k_sample.txt', min_reads=1000, normalize=None)"
   ]
  },
  {
   "cell_type": "code",
   "execution_count": 45,
   "metadata": {},
   "outputs": [
    {
     "name": "stdout",
     "output_type": "stream",
     "text": [
      "2021-10-05 17:59:33 WARNING Do you forget to normalize your data? It is required before running this function\n",
      "2021-10-05 17:59:33 INFO After filtering, 1376 remain.\n"
     ]
    }
   ],
   "source": [
    "dat10k=dat10k.filter_sum_abundance(0.000001)"
   ]
  },
  {
   "cell_type": "code",
   "execution_count": 46,
   "metadata": {},
   "outputs": [],
   "source": [
    "allmean,allstd=get_sample_alpha(dat10k)"
   ]
  },
  {
   "cell_type": "code",
   "execution_count": 47,
   "metadata": {},
   "outputs": [],
   "source": [
    "dats=dat10k.copy()\n",
    "for cid in allmean.keys():\n",
    "    dats.sample_metadata.loc[dats.sample_metadata['sample_ID']==cid,'avgspecies'] = allmean[cid]\n",
    "    dats.sample_metadata.loc[dats.sample_metadata['sample_ID']==cid,'stdspecies'] = allstd[cid]\n"
   ]
  },
  {
   "cell_type": "code",
   "execution_count": 48,
   "metadata": {},
   "outputs": [
    {
     "name": "stdout",
     "output_type": "stream",
     "text": [
      "AmpliconExperiment with 31 samples, 1376 features\n",
      "AmpliconExperiment with 51 samples, 1376 features\n",
      "AmpliconExperiment with 41 samples, 1376 features\n",
      "AmpliconExperiment with 51 samples, 1376 features\n",
      "AmpliconExperiment with 35 samples, 1376 features\n",
      "AmpliconExperiment with 23 samples, 1376 features\n"
     ]
    },
    {
     "data": {
      "text/plain": [
       "<matplotlib.legend.Legend at 0x7fb2db07b280>"
      ]
     },
     "execution_count": 48,
     "metadata": {},
     "output_type": "execute_result"
    },
    {
     "data": {
      "image/png": "[encoded data removed]",
      "text/plain": [
       "<Figure size 432x288 with 1 Axes>"
      ]
     },
     "metadata": {
      "needs_background": "light"
     },
     "output_type": "display_data"
    }
   ],
   "source": [
    "f=plt.figure()\n",
    "tt=dats.filter_samples('kindergarten',['Home','Family'],negate=True)\n",
    "tt=tt.filter_samples('Time',1)\n",
    "print(tt)\n",
    "plt.errorbar(tt.sample_metadata.age_months,tt.sample_metadata.avgspecies,yerr=tt.sample_metadata.stdspecies,fmt='o',c=[0.8,0.8,1,1],ecolor='k',barsabove=True)\n",
    "tt=dats.filter_samples('Time',2)\n",
    "print(tt)\n",
    "plt.errorbar(tt.sample_metadata.age_months,tt.sample_metadata.avgspecies,yerr=tt.sample_metadata.stdspecies,fmt='o',c=[0.6,0.6,1,1],ecolor='k',barsabove=True)\n",
    "tt=dats.filter_samples('Time',3)\n",
    "print(tt)\n",
    "plt.errorbar(tt.sample_metadata.age_months,tt.sample_metadata.avgspecies,yerr=tt.sample_metadata.stdspecies,fmt='o',c=[0.2,0.2,1,1],ecolor='k',barsabove=True)\n",
    "tt=dats.filter_samples('kindergarten',['Home','Family'],negate=True)\n",
    "tt=dats.filter_samples('Time',4)\n",
    "print(tt)\n",
    "plt.errorbar(tt.sample_metadata.age_months,tt.sample_metadata.avgspecies,yerr=tt.sample_metadata.stdspecies,fmt='o',c=[0,0,1,1],ecolor='k',barsabove=True)\n",
    "tt=dats.filter_samples('Time',5)\n",
    "print(tt)\n",
    "plt.errorbar(tt.sample_metadata.age_months,tt.sample_metadata.avgspecies,yerr=tt.sample_metadata.stdspecies,fmt='o',c=[0,0,0.5,1],ecolor='k',barsabove=True)\n",
    "tt=dats.filter_samples('kindergarten','Home')\n",
    "print(tt)\n",
    "plt.errorbar(tt.sample_metadata.age_months,tt.sample_metadata.avgspecies,yerr=tt.sample_metadata.stdspecies,fmt='o',c=[1,0,0,1],ecolor='k',barsabove=True)\n",
    "plt.xlim([0,35])\n",
    "plt.ylim([0,220])\n",
    "plt.xlabel('Age (months)')\n",
    "plt.ylabel('Number of species')\n",
    "plt.legend(['Day care sample 1','Day care sample 2','Day care sample 3','Day care sample 4','Day care sample 5','Home care'])"
   ]
  },
  {
   "cell_type": "code",
   "execution_count": 49,
   "metadata": {},
   "outputs": [],
   "source": [
    "f.savefig('review-figs/fig-alpha-age-scatter-10k.pdf')"
   ]
  },
  {
   "cell_type": "markdown",
   "metadata": {},
   "source": [
    "### and the age category graph"
   ]
  },
  {
   "cell_type": "code",
   "execution_count": 50,
   "metadata": {},
   "outputs": [],
   "source": [
    "tt=cu.numeric_to_categories(dats,'age_months','age_cat',np.arange(0,35,5),inplace=False)"
   ]
  },
  {
   "cell_type": "code",
   "execution_count": 51,
   "metadata": {},
   "outputs": [
    {
     "data": {
      "text/plain": [
       "10-15    74\n",
       "15-20    44\n",
       "20-25    42\n",
       "5-10     36\n",
       "25-30    26\n",
       ">30       8\n",
       "0-5       2\n",
       "Name: age_cat, dtype: int64"
      ]
     },
     "execution_count": 51,
     "metadata": {},
     "output_type": "execute_result"
    }
   ],
   "source": [
    "tt.sample_metadata.age_cat.value_counts()"
   ]
  },
  {
   "cell_type": "markdown",
   "metadata": {},
   "source": [
    "### Get rid of timepoint1 samples (since did not have time to mingle in the kindergarten)"
   ]
  },
  {
   "cell_type": "code",
   "execution_count": 52,
   "metadata": {},
   "outputs": [],
   "source": [
    "tt=tt.filter_samples('Time',[1],negate=True)"
   ]
  },
  {
   "cell_type": "code",
   "execution_count": 53,
   "metadata": {},
   "outputs": [
    {
     "data": {
      "text/plain": [
       "10-15    66\n",
       "15-20    41\n",
       "20-25    37\n",
       "5-10     27\n",
       "25-30    21\n",
       ">30       8\n",
       "0-5       1\n",
       "Name: age_cat, dtype: int64"
      ]
     },
     "execution_count": 53,
     "metadata": {},
     "output_type": "execute_result"
    }
   ],
   "source": [
    "tt.sample_metadata.age_cat.value_counts()"
   ]
  },
  {
   "cell_type": "code",
   "execution_count": 54,
   "metadata": {},
   "outputs": [
    {
     "name": "stdout",
     "output_type": "stream",
     "text": [
      "age 10-15, home: 62.000000, gan: 78.964912\n",
      "MannwhitneyuResult(statistic=170.0, pvalue=0.053995994600332095)\n",
      "gan 57 samples, home 9 samples\n",
      "age 5-10, home: 48.125000, gan: 54.842105\n",
      "MannwhitneyuResult(statistic=50.0, pvalue=0.08756563663571082)\n",
      "gan 19 samples, home 8 samples\n",
      "age >30, home: 63.000000, gan: 127.714286\n",
      "MannwhitneyuResult(statistic=0.0, pvalue=0.0938906360495762)\n",
      "gan 7 samples, home 1 samples\n",
      "age 25-30, home: 105.500000, gan: 132.526316\n",
      "MannwhitneyuResult(statistic=3.5, pvalue=0.03601884009533429)\n",
      "gan 19 samples, home 2 samples\n",
      "age 20-25, home: 98.666667, gan: 127.470588\n",
      "MannwhitneyuResult(statistic=17.0, pvalue=0.031076245526067255)\n",
      "gan 34 samples, home 3 samples\n",
      "age 15-20, home: nan, gan: 105.195122\n",
      "MannwhitneyuResult(statistic=0.0, pvalue=0.0)\n",
      "gan 41 samples, home 0 samples\n",
      "age 0-5, home: nan, gan: 48.000000\n",
      "MannwhitneyuResult(statistic=0.0, pvalue=0.0)\n",
      "gan 1 samples, home 0 samples\n"
     ]
    },
    {
     "name": "stderr",
     "output_type": "stream",
     "text": [
      "<ipython-input-19-aaf0b4e70b45>:23: RuntimeWarning: Mean of empty slice\n",
      "  alpha_home=np.nanmean(tthome.sample_metadata['avgspecies'])\n",
      "/Users/amnon/miniconda3/envs/calour/lib/python3.9/site-packages/numpy/lib/nanfunctions.py:1664: RuntimeWarning: Degrees of freedom <= 0 for slice.\n",
      "  var = nanvar(a, axis=axis, dtype=dtype, out=out, ddof=ddof,\n",
      "/Users/amnon/miniconda3/envs/calour/lib/python3.9/site-packages/scipy/stats/stats.py:7171: RuntimeWarning: divide by zero encountered in double_scalars\n",
      "  z = (bigu - meanrank) / sd\n",
      "/Users/amnon/miniconda3/envs/calour/lib/python3.9/site-packages/numpy/core/_asarray.py:102: UserWarning: Warning: converting a masked element to nan.\n",
      "  return array(a, dtype, copy=False, order=order)\n"
     ]
    },
    {
     "data": {
      "text/plain": [
       "(0.0, 150.0)"
      ]
     },
     "execution_count": 54,
     "metadata": {},
     "output_type": "execute_result"
    },
    {
     "data": {
      "image/png": "[encoded data removed]",
      "text/plain": [
       "<Figure size 432x288 with 1 Axes>"
      ]
     },
     "metadata": {
      "needs_background": "light"
     },
     "output_type": "display_data"
    }
   ],
   "source": [
    "f = draw_age_alpha_onebar()\n",
    "plt.ylim([0,150])"
   ]
  },
  {
   "cell_type": "code",
   "execution_count": 55,
   "metadata": {},
   "outputs": [],
   "source": [
    "f.savefig('review-figs/alpha-diversity-bins-10k.pdf')"
   ]
  },
  {
   "cell_type": "markdown",
   "metadata": {},
   "source": [
    "### and the regression plot"
   ]
  },
  {
   "cell_type": "code",
   "execution_count": 56,
   "metadata": {},
   "outputs": [
    {
     "name": "stdout",
     "output_type": "stream",
     "text": [
      "day care pearson correlation:\n",
      "(0.6626270405628927, 8.53541167242263e-28)\n",
      "daycare - slope 3.947950, intercept 29.328787, rsq 0.439075\n",
      "home care pearson correlation:\n",
      "(0.6584032865273745, 0.0006364031066222026)\n",
      "homecare - slope 2.251725, intercept 32.640004, rsq 0.433495\n",
      "49 cases where got >= diff\n",
      "pval 0.049950\n"
     ]
    },
    {
     "data": {
      "image/png": "[encoded data removed]",
      "text/plain": [
       "<Figure size 432x288 with 1 Axes>"
      ]
     },
     "metadata": {
      "needs_background": "light"
     },
     "output_type": "display_data"
    }
   ],
   "source": [
    "from sklearn.linear_model import LinearRegression\n",
    "from scipy.linalg import lstsq\n",
    "\n",
    "f=plt.figure()\n",
    "tt=dats.filter_samples('kindergarten',['Home'],negate=True)\n",
    "plt.plot(tt.sample_metadata.age_months,tt.sample_metadata.avgspecies,'o',c=[0.8,0.8,1,1])\n",
    "tt=dats.filter_samples('kindergarten',['Home'],negate=False)\n",
    "plt.plot(tt.sample_metadata.age_months,tt.sample_metadata.avgspecies,'o',c=[1,0,0,1])\n",
    "\n",
    "tt=dats.filter_samples('kindergarten',['Home'],negate=True)\n",
    "xpos=np.array(tt.sample_metadata.age_months).reshape(-1, 1)\n",
    "pearson = scipy.stats.pearsonr(tt.sample_metadata.age_months, tt.sample_metadata.avgspecies)\n",
    "print('day care pearson correlation:')\n",
    "print(pearson)\n",
    "reg = LinearRegression().fit(xpos,tt.sample_metadata.avgspecies)\n",
    "# reg = lstsq(tt.sample_metadata.age_months,tt.sample_metadata.avgspecies)\n",
    "x_pred = np.array([[0],[35]])\n",
    "y_pred = reg.predict(x_pred)\n",
    "plt.plot(x_pred,y_pred,'-')\n",
    "x_text=np.array([[17.5]])\n",
    "y_text = reg.predict(x_text)\n",
    "plt.text(x_text-5,y_text+20,'y=%.2f*x+%.2f' % (reg.coef_, reg.intercept_),size=14,c='b')\n",
    "plt.xlim([0,35])\n",
    "plt.ylim([0,200])\n",
    "print('daycare - slope %f, intercept %f, rsq %f' % (reg.coef_, reg.intercept_, reg.score(xpos, tt.sample_metadata.avgspecies)))\n",
    "rslope1 = reg.coef_\n",
    "\n",
    "tt=dats.filter_samples('kindergarten',['Home'],negate=False)\n",
    "xpos=np.array(tt.sample_metadata.age_months).reshape(-1, 1)\n",
    "pearson = scipy.stats.pearsonr(tt.sample_metadata.age_months, tt.sample_metadata.avgspecies)\n",
    "print('home care pearson correlation:')\n",
    "print(pearson)\n",
    "reg = LinearRegression().fit(xpos,tt.sample_metadata.avgspecies)\n",
    "print('homecare - slope %f, intercept %f, rsq %f' % (reg.coef_, reg.intercept_, reg.score(xpos, tt.sample_metadata.avgspecies)))\n",
    "# reg = lstsq(tt.sample_metadata.age_months,tt.sample_metadata.avgspecies)\n",
    "x_pred = np.array([[0],[35]])\n",
    "y_pred = reg.predict(x_pred)\n",
    "plt.plot(x_pred,y_pred,'-r')\n",
    "x_text=np.array([[17.5]])\n",
    "y_text = reg.predict(x_text)\n",
    "plt.text(x_text,y_text-20,'y=%.2f*x+%.2f' % (reg.coef_, reg.intercept_),size=14,c='r')\n",
    "rslope2 = reg.coef_\n",
    "plt.xlim([3,35])\n",
    "plt.ylim([0,200])\n",
    "\n",
    "# calculate p-value using 1000 random label permutations\n",
    "vals = []\n",
    "pdat=dats.copy()\n",
    "np.random.seed(2021)\n",
    "for cperm in range(1000):\n",
    "    pdat.sample_metadata['kindergarten'] = np.random.permutation(pdat.sample_metadata['kindergarten'])\n",
    "    tt=pdat.filter_samples('kindergarten',['Home'],negate=True)\n",
    "    xpos=np.array(tt.sample_metadata.age_months).reshape(-1, 1)\n",
    "    reg = LinearRegression().fit(xpos,tt.sample_metadata.avgspecies)\n",
    "    slope1 = reg.coef_\n",
    "    tt=pdat.filter_samples('kindergarten',['Home'],negate=False)\n",
    "    xpos=np.array(tt.sample_metadata.age_months).reshape(-1, 1)\n",
    "    reg = LinearRegression().fit(xpos,tt.sample_metadata.avgspecies)\n",
    "    slope2 = reg.coef_\n",
    "    vals.append(slope1-slope2)\n",
    "\n",
    "num_big = np.sum(np.array(vals) >= rslope1-rslope2)\n",
    "print('%d cases where got >= diff' % num_big)\n",
    "pval = ((num_big+1)/(len(vals)+1))\n",
    "print('pval %f' % pval)\n",
    "plt.title('pval %f' % pval)\n",
    "plt.xlabel('Age (months)')\n",
    "plt.ylabel('Number of species')\n",
    "plt.legend(['home care', 'day care'])\n",
    "\n",
    "f.savefig('review-figs/fig-alpha-regression-10k.pdf')\n"
   ]
  },
  {
   "cell_type": "code",
   "execution_count": null,
   "metadata": {},
   "outputs": [],
   "source": []
  }
 ],
 "metadata": {
  "kernelspec": {
   "display_name": "Python 3",
   "language": "python",
   "name": "python3"
  },
  "language_info": {
   "codemirror_mode": {
    "name": "ipython",
    "version": 3
   },
   "file_extension": ".py",
   "mimetype": "text/x-python",
   "name": "python",
   "nbconvert_exporter": "python",
   "pygments_lexer": "ipython3",
   "version": "3.9.5"
  }
 },
 "nbformat": 4,
 "nbformat_minor": 4
}
