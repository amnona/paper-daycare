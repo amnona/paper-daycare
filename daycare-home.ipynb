{
 "cells": [
  {
   "cell_type": "code",
   "execution_count": 1,
   "metadata": {},
   "outputs": [
    {
     "name": "stdout",
     "output_type": "stream",
     "text": [
      "failed to load logging config file\n"
     ]
    }
   ],
   "source": [
    "import calour as ca\n",
    "import calour_utils as cu"
   ]
  },
  {
   "cell_type": "code",
   "execution_count": 2,
   "metadata": {},
   "outputs": [],
   "source": [
    "import matplotlib.pyplot as plt\n",
    "%matplotlib inline\n",
    "import numpy as np\n",
    "import matplotlib as mpl\n",
    "import pandas as pd\n",
    "import scipy as sp"
   ]
  },
  {
   "cell_type": "code",
   "execution_count": 3,
   "metadata": {},
   "outputs": [
    {
     "data": {
      "text/plain": [
       "'/Users/amnon/git/paper-daycare'"
      ]
     },
     "execution_count": 3,
     "metadata": {},
     "output_type": "execute_result"
    }
   ],
   "source": [
    "pwd"
   ]
  },
  {
   "cell_type": "code",
   "execution_count": 4,
   "metadata": {},
   "outputs": [],
   "source": [
    "ca.set_log_level(11)"
   ]
  },
  {
   "cell_type": "code",
   "execution_count": 5,
   "metadata": {},
   "outputs": [
    {
     "name": "stdout",
     "output_type": "stream",
     "text": [
      "creating logger\n"
     ]
    }
   ],
   "source": [
    "db=ca.database._get_database_class('dbbact')"
   ]
  },
  {
   "cell_type": "markdown",
   "metadata": {},
   "source": [
    "# Load the data"
   ]
  },
  {
   "cell_type": "code",
   "execution_count": 6,
   "metadata": {},
   "outputs": [
    {
     "name": "stdout",
     "output_type": "stream",
     "text": [
      "2021-10-04 10:35:52 INFO loaded 268 samples, 928 features\n",
      "2021-10-04 10:35:52 WARNING Do you forget to normalize your data? It is required before running this function\n",
      "2021-10-04 10:35:52 INFO After filtering, 268 remain.\n"
     ]
    }
   ],
   "source": [
    "gan=ca.read_amplicon('data/gan-normalized.biom','data/gan-normalized_sample.txt',feature_metadata_file='data/gan-normalized_feature.txt',min_reads=10,normalize=100)"
   ]
  },
  {
   "cell_type": "code",
   "execution_count": 7,
   "metadata": {},
   "outputs": [],
   "source": [
    "gan=gan.sort_samples('pn_ID')\n",
    "gan=gan.sort_samples('Time')"
   ]
  },
  {
   "cell_type": "markdown",
   "metadata": {},
   "source": [
    "# Age matching home care to day care samples\n",
    "## One sample per child\n",
    "### Start from timepoint5, look for a match < threshold (1 month) and throw away all other samples of that child\n",
    "redo until all samples finished"
   ]
  },
  {
   "cell_type": "code",
   "execution_count": 10,
   "metadata": {},
   "outputs": [],
   "source": [
    "home = gan.filter_samples('kindergarten','Home')\n",
    "daycare = gan.filter_samples('kindergarten','Home',negate=True)\n",
    "\n",
    "dc=daycare.sort_samples('Time')\n",
    "ndc=gan.copy()\n",
    "ndc.sample_metadata['pair_id']=''\n",
    "keep=[]\n",
    "# maximal age difference between matched samples (months)\n",
    "max_age_diff=1\n",
    "\n",
    "found_any = True\n",
    "while found_any:\n",
    "    found_any = False\n",
    "    for cid,cexp in home.iterate():\n",
    "        cage = cexp.sample_metadata['age_months'].values[0]\n",
    "        tpos = np.where(np.abs(dc.sample_metadata['age_months']-cage)<max_age_diff)[0]\n",
    "        if len(tpos)==0:\n",
    "            continue\n",
    "        found_any = True\n",
    "        ckeep = dc.sample_metadata.iloc[tpos[0]]\n",
    "        ckid = ckeep['_sample_id']\n",
    "        keep.append(ckid)\n",
    "        ndc.sample_metadata.loc[cid,'pair_id'] = cid\n",
    "        ndc.sample_metadata.loc[ckid, 'pair_id'] = cid\n",
    "        dc=dc.filter_samples('pn_ID',ckeep['pn_ID'],negate=True)\n",
    "    "
   ]
  },
  {
   "cell_type": "markdown",
   "metadata": {},
   "source": [
    "#### sanity check - compare mean and median ages of the 2 groups"
   ]
  },
  {
   "cell_type": "code",
   "execution_count": 11,
   "metadata": {},
   "outputs": [
    {
     "name": "stdout",
     "output_type": "stream",
     "text": [
      "we have 24 individuals in home\n",
      "home care mean 14.386301 median 12.361644\n",
      "we have 60 individuals in daycare, matching 24 homecare\n",
      "day care mean 14.269863 median 12.016438\n"
     ]
    }
   ],
   "source": [
    "tt=ndc.filter_samples('pair_id','',negate=True)\n",
    "ttt=tt.filter_samples('kindergarten','Home')\n",
    "print('we have %d individuals in home' % len(ttt.sample_metadata))\n",
    "print('home care mean %f median %f' % (np.mean(ttt.sample_metadata['age_months']), np.median(ttt.sample_metadata['age_months'])))\n",
    "ttt=tt.filter_samples('kindergarten','Home',negate=True)\n",
    "print('we have %d individuals in daycare, matching %d homecare' % (len(ttt.sample_metadata), len(ttt.sample_metadata['pair_id'].unique())))\n",
    "ttt=ttt.aggregate_by_metadata('pair_id')\n",
    "print('day care mean %f median %f' % (np.mean(ttt.sample_metadata['age_months']), np.median(ttt.sample_metadata['age_months'])))"
   ]
  },
  {
   "cell_type": "code",
   "execution_count": 12,
   "metadata": {},
   "outputs": [
    {
     "data": {
      "image/png": "[encoded data removed]",
      "text/plain": [
       "<Figure size 432x288 with 1 Axes>"
      ]
     },
     "metadata": {
      "needs_background": "light"
     },
     "output_type": "display_data"
    }
   ],
   "source": [
    "f=plt.figure()\n",
    "tt=ndc.filter_samples('pair_id','',negate=True)\n",
    "ttt=tt.filter_samples('kindergarten','Home')\n",
    "ids = ttt.sample_metadata.pair_id.unique()\n",
    "ttt=tt.filter_samples('kindergarten','Home',negate=True)\n",
    "# for the legend\n",
    "plt.plot([1],[-1],'.r')\n",
    "plt.plot([1],[-1],'.b')\n",
    "for cpos,cid in enumerate(ids):\n",
    "    rr=ttt.filter_samples('pair_id',cid)\n",
    "    plt.plot([cpos]*len(rr.sample_metadata),rr.sample_metadata['age_months'],'.b')\n",
    "ttt=tt.filter_samples('kindergarten','Home')\n",
    "for cpos,cid in enumerate(ids):\n",
    "    rr=ttt.filter_samples('pair_id',cid)\n",
    "    plt.plot([cpos]*len(rr.sample_metadata),rr.sample_metadata['age_months'],'.r')\n",
    "plt.ylabel('age (months)')\n",
    "plt.ylim([0,35])\n",
    "plt.xlabel('participant')\n",
    "plt.xticks([])\n",
    "plt.legend(['home care','day care'])\n",
    "f.savefig('./supplementary/twins-for-home-daycare-age-matches.pdf')"
   ]
  },
  {
   "cell_type": "code",
   "execution_count": 13,
   "metadata": {},
   "outputs": [
    {
     "data": {
      "text/plain": [
       "1"
      ]
     },
     "execution_count": 13,
     "metadata": {},
     "output_type": "execute_result"
    }
   ],
   "source": [
    "# and make sure we have 1 sample from each participant\n",
    "tt=ndc.filter_samples('pair_id','',negate=True)\n",
    "np.max(tt.sample_metadata.pn_ID.value_counts())"
   ]
  },
  {
   "cell_type": "markdown",
   "metadata": {},
   "source": [
    "### Save the experiment with twinIDs for Maaslin"
   ]
  },
  {
   "cell_type": "code",
   "execution_count": 14,
   "metadata": {},
   "outputs": [],
   "source": [
    "xx=ndc.filter_samples('pair_id','',negate=True)\n",
    "xx.save('./twins-for-home-daycare-comparison')"
   ]
  },
  {
   "cell_type": "code",
   "execution_count": 15,
   "metadata": {},
   "outputs": [
    {
     "name": "stdout",
     "output_type": "stream",
     "text": [
      "2021-10-04 10:39:59 INFO After filtering, 928 remain.\n",
      "2021-10-04 10:39:59 INFO 24 samples with value 1 (['Home'])\n",
      "2021-10-04 10:39:59 INFO number of higher in Home: 8. number of higher in NOT Home : 7. total 15\n"
     ]
    }
   ],
   "source": [
    "dd_twin=ca.analysis.diff_abundance_paired(ndc,'pair_id','kindergarten','Home',random_seed=2020,alpha=0.1)"
   ]
  },
  {
   "cell_type": "code",
   "execution_count": 16,
   "metadata": {},
   "outputs": [],
   "source": [
    "dd_twin.save('./supplementary/home-vs-daycare-twins')"
   ]
  },
  {
   "cell_type": "code",
   "execution_count": 17,
   "metadata": {},
   "outputs": [
    {
     "name": "stdout",
     "output_type": "stream",
     "text": [
      "2021-10-04 10:40:11 INFO After filtering, 928 remain.\n",
      "2021-10-04 10:40:11 INFO 24 samples with value 1 (['Home'])\n",
      "2021-10-04 10:40:12 INFO number of higher in Home: 10. number of higher in NOT Home : 25. total 35\n"
     ]
    }
   ],
   "source": [
    "dd_twin25=ca.analysis.diff_abundance_paired(ndc,'pair_id','kindergarten','Home',random_seed=2020,alpha=0.25)"
   ]
  },
  {
   "cell_type": "code",
   "execution_count": 19,
   "metadata": {},
   "outputs": [
    {
     "name": "stdout",
     "output_type": "stream",
     "text": [
      "2021-10-04 10:40:26 WARNING You need to set up jupyter notebook with `%matplotlib notebook`\n"
     ]
    },
    {
     "data": {
      "application/vnd.jupyter.widget-view+json": {
       "model_id": "3ee72f3c0b4e455a9ae027a9d9dede07",
       "version_major": 2,
       "version_minor": 0
      },
      "text/plain": [
       "Label(value='0 features are selected')"
      ]
     },
     "metadata": {},
     "output_type": "display_data"
    },
    {
     "data": {
      "application/vnd.jupyter.widget-view+json": {
       "model_id": "3f49c0b9cfd44d58b1164ba28d77c4a5",
       "version_major": 2,
       "version_minor": 0
      },
      "text/plain": [
       "HBox(children=(Text(value='-', description='Sample ID', layout=Layout(width='100%'), placeholder='Sample ID'),…"
      ]
     },
     "metadata": {},
     "output_type": "display_data"
    },
    {
     "data": {
      "application/vnd.jupyter.widget-view+json": {
       "model_id": "6848da17e3854bfb8502bf26b8291070",
       "version_major": 2,
       "version_minor": 0
      },
      "text/plain": [
       "HBox(children=(Dropdown(layout=Layout(width='20%'), options=('BarcodeSequence', 'LinkerPrimerSequence', 'Datab…"
      ]
     },
     "metadata": {},
     "output_type": "display_data"
    },
    {
     "data": {
      "application/vnd.jupyter.widget-view+json": {
       "model_id": "45a40b9d875b450a9765289c05ddd795",
       "version_major": 2,
       "version_minor": 0
      },
      "text/plain": [
       "HBox(children=(Dropdown(layout=Layout(width='20%'), options=('Taxon', 'Confidence', 'SV_number', '_feature_id'…"
      ]
     },
     "metadata": {},
     "output_type": "display_data"
    },
    {
     "data": {
      "application/vnd.jupyter.widget-view+json": {
       "model_id": "de9cf3152b71488089ba103ae3b6d0bd",
       "version_major": 2,
       "version_minor": 0
      },
      "text/plain": [
       "HBox(children=(Button(description='print axes ranges', style=ButtonStyle(), tooltip='Print the x axis and y ax…"
      ]
     },
     "metadata": {},
     "output_type": "display_data"
    },
    {
     "data": {
      "application/vnd.jupyter.widget-view+json": {
       "model_id": "0d40091dbe4a43a3bec66d032a0cee42",
       "version_major": 2,
       "version_minor": 0
      },
      "text/plain": [
       "HTML(value='no annotation found', layout=Layout(height='100px', overflow_y='auto'))"
      ]
     },
     "metadata": {},
     "output_type": "display_data"
    },
    {
     "data": {
      "text/plain": [
       "<calour.heatmap.plotgui_jupyter.PlotGUI_Jupyter at 0x7ff5b960fd90>"
      ]
     },
     "execution_count": 19,
     "metadata": {},
     "output_type": "execute_result"
    },
    {
     "data": {
      "image/png": "[encoded data removed]",
      "text/plain": [
       "<Figure size 432x288 with 4 Axes>"
      ]
     },
     "metadata": {
      "needs_background": "light"
     },
     "output_type": "display_data"
    }
   ],
   "source": [
    "gan.filter_ids(dd_twin.feature_metadata.index).sort_samples('Time').plot(gui='jupyter',sample_field='Time')"
   ]
  },
  {
   "cell_type": "code",
   "execution_count": 20,
   "metadata": {},
   "outputs": [],
   "source": [
    "# create the colors for the top bar:\n",
    "gan.sample_metadata['age_rounded'] = gan.sample_metadata['age_months'].astype(int)\n",
    "gan.sample_metadata['age_rounded_s'] = gan.sample_metadata['age_rounded'].astype(str)\n",
    "ages = gan.sample_metadata['age_rounded'].unique()\n",
    "ages.sort()\n",
    "cdict={}\n",
    "for cage in ages:\n",
    "    cinten = 0.2+(cage-ages[0])*0.8/(ages[-1]-ages[0])\n",
    "    cdict[str(cage)] = (cinten,0,cinten,1)"
   ]
  },
  {
   "cell_type": "code",
   "execution_count": 21,
   "metadata": {},
   "outputs": [],
   "source": [
    "# taxonomy colors\n",
    "\n",
    "taxcolors={}\n",
    "taxcolors['_c__Clostridia']='g'\n",
    "taxcolors['_c__Bacteroidia']='b'\n",
    "taxcolors['_c__Gammaproteobacteria']='r'\n",
    "taxcolors['_c__Bacilli']='y'\n",
    "taxcolors['_c__Erysipelotrichi']='cyan'\n",
    "taxcolors['_c__Coriobacteriia']='magenta'\n",
    "taxcolors['_c__Betaproteobacteria']='black'\n",
    "taxcolors['Other']='grey'\n",
    "\n",
    "alltaxcolors={}\n",
    "for ctax in gan.feature_metadata['class'].unique():\n",
    "    alltaxcolors[ctax]='grey'\n",
    "    \n",
    "alltaxcolors.update(taxcolors)\n"
   ]
  },
  {
   "cell_type": "code",
   "execution_count": 22,
   "metadata": {},
   "outputs": [
    {
     "name": "stdout",
     "output_type": "stream",
     "text": [
      "2021-10-04 10:40:41 WARNING You need to set up jupyter notebook with `%matplotlib notebook`\n"
     ]
    },
    {
     "data": {
      "application/vnd.jupyter.widget-view+json": {
       "model_id": "756651dc8e944e70b2d7dc238e6a9e8f",
       "version_major": 2,
       "version_minor": 0
      },
      "text/plain": [
       "Label(value='0 features are selected')"
      ]
     },
     "metadata": {},
     "output_type": "display_data"
    },
    {
     "data": {
      "application/vnd.jupyter.widget-view+json": {
       "model_id": "a631df1032f34ee782c949160464e8ef",
       "version_major": 2,
       "version_minor": 0
      },
      "text/plain": [
       "HBox(children=(Text(value='-', description='Sample ID', layout=Layout(width='100%'), placeholder='Sample ID'),…"
      ]
     },
     "metadata": {},
     "output_type": "display_data"
    },
    {
     "data": {
      "application/vnd.jupyter.widget-view+json": {
       "model_id": "c33c48e2e92247a5980afe4807248f41",
       "version_major": 2,
       "version_minor": 0
      },
      "text/plain": [
       "HBox(children=(Dropdown(layout=Layout(width='20%'), options=('BarcodeSequence', 'LinkerPrimerSequence', 'Datab…"
      ]
     },
     "metadata": {},
     "output_type": "display_data"
    },
    {
     "data": {
      "application/vnd.jupyter.widget-view+json": {
       "model_id": "1a3c765f476342acbe3d1671c33cb2d8",
       "version_major": 2,
       "version_minor": 0
      },
      "text/plain": [
       "HBox(children=(Dropdown(layout=Layout(width='20%'), options=('Taxon', 'Confidence', 'SV_number', '_feature_id'…"
      ]
     },
     "metadata": {},
     "output_type": "display_data"
    },
    {
     "data": {
      "application/vnd.jupyter.widget-view+json": {
       "model_id": "6a72485fc6eb482d8bb11ae8332895ba",
       "version_major": 2,
       "version_minor": 0
      },
      "text/plain": [
       "HBox(children=(Button(description='print axes ranges', style=ButtonStyle(), tooltip='Print the x axis and y ax…"
      ]
     },
     "metadata": {},
     "output_type": "display_data"
    },
    {
     "data": {
      "application/vnd.jupyter.widget-view+json": {
       "model_id": "f61e26324c634b0b849f05f5abaad481",
       "version_major": 2,
       "version_minor": 0
      },
      "text/plain": [
       "HTML(value='no annotation found', layout=Layout(height='100px', overflow_y='auto'))"
      ]
     },
     "metadata": {},
     "output_type": "display_data"
    },
    {
     "data": {
      "image/png": "[encoded data removed]",
      "text/plain": [
       "<Figure size 432x288 with 4 Axes>"
      ]
     },
     "metadata": {
      "needs_background": "light"
     },
     "output_type": "display_data"
    }
   ],
   "source": [
    "f=gan.filter_ids(dd_twin.feature_metadata.index).sort_samples('age_months').sort_samples('kindergarten').plot(gui='jupyter',sample_field='kindergarten', barx_fields=['age_rounded_s'], barx_label=False, barx_colors=cdict, bary_fields=['class'],bary_colors=alltaxcolors, bary_label=False)"
   ]
  },
  {
   "cell_type": "code",
   "execution_count": 23,
   "metadata": {},
   "outputs": [],
   "source": [
    "f.figure.savefig('figures/heatmap-daycare-homecare.pdf')"
   ]
  },
  {
   "cell_type": "markdown",
   "metadata": {},
   "source": [
    "## And save the legend for the taxonomy colors\n",
    "(we cut it from this figure)"
   ]
  },
  {
   "cell_type": "code",
   "execution_count": 24,
   "metadata": {},
   "outputs": [
    {
     "data": {
      "image/png": "[encoded data removed]",
      "text/plain": [
       "<Figure size 432x288 with 1 Axes>"
      ]
     },
     "metadata": {
      "needs_background": "light"
     },
     "output_type": "display_data"
    }
   ],
   "source": [
    "f=plt.figure()\n",
    "labels=[]\n",
    "for ck,cv in taxcolors.items():\n",
    "    plt.plot([0],[0],'o',c=cv)\n",
    "    labels.append(ck.split('_')[-1])\n",
    "plt.legend(labels)\n",
    "f.savefig('figures/daycare-homecare-tax-colors.pdf')"
   ]
  },
  {
   "cell_type": "markdown",
   "metadata": {},
   "source": [
    "# look at experiments showing the age<1 enrichment"
   ]
  },
  {
   "cell_type": "code",
   "execution_count": 25,
   "metadata": {},
   "outputs": [],
   "source": [
    "import matplotlib_venn\n",
    "def plot_venn_group(ganexp, gandir, otherexp, otherdir):\n",
    "    odir_features=otherexp.feature_metadata[otherexp.feature_metadata._calour_direction == otherdir].index.values\n",
    "    gandir1 = ganexp.filter_by_metadata('_calour_direction',[gandir],axis='f')\n",
    "    size1=len(set(gandir1.feature_metadata.index.values).intersection(odir_features))\n",
    "    print('%s, %s: intersection %d (non-intersect %d)' % (gandir, otherdir, size1, len(gandir1.feature_metadata)-size1))\n",
    "    gandir2 = ganexp.filter_by_metadata('_calour_direction',[gandir],negate=True,axis='f')\n",
    "    size2=len(set(gandir2.feature_metadata.index.values).intersection(odir_features))\n",
    "    print('NOT %s, %s: intersection %d (non-intersect %d)' % (gandir, otherdir, size2, len(gandir2.feature_metadata)-size2))\n",
    "    f=plt.figure()\n",
    "#     matplotlib_venn.venn3({'101':size1, '011': size2, '001':len(odir_features),\n",
    "    print('big circle should be %d' % len(odir_features))\n",
    "#     matplotlib_venn.venn3({'101':size1, '011': size2, '001':50,\n",
    "#                            '010': len(gandir2.feature_metadata)-size2,\n",
    "#                            '100':len(gandir1.feature_metadata)-size1})\n",
    "#                            set_labels=['Home care', 'Day care'])\n",
    "    v=matplotlib_venn.venn3({'101':size1, '011': size2, '001':50,\n",
    "                           '010': len(gandir2.feature_metadata)-size2,\n",
    "                           '100':len(gandir1.feature_metadata)-size1},\n",
    "                           set_labels=['', ''])\n",
    "    aa=v.get_label_by_id('101')\n",
    "    if aa is not None:\n",
    "        aa.set_text('')\n",
    "    v.get_label_by_id('100').set_text('')\n",
    "    aa=v.get_label_by_id('011')\n",
    "    if aa is not None:\n",
    "        aa.set_text('')\n",
    "    v.get_label_by_id('001').set_text('')\n",
    "    aa=v.get_label_by_id('010')\n",
    "    if aa is not None:\n",
    "        aa.set_text('')\n",
    "    plt.title('ASVs higher in %s' % otherdir)\n",
    "    return f"
   ]
  },
  {
   "cell_type": "markdown",
   "metadata": {},
   "source": [
    "## Changes in the intestinal microbiota following the administration of azithromycin in a randomised placebo-controlled trial among infants in south India\n",
    "expid: , 339, located in: human-baby-azithromycin"
   ]
  },
  {
   "cell_type": "code",
   "execution_count": 41,
   "metadata": {},
   "outputs": [
    {
     "name": "stdout",
     "output_type": "stream",
     "text": [
      "2021-10-04 10:48:24 INFO loaded 280 samples, 996 features\n",
      "2021-10-04 10:48:24 WARNING Do you forget to normalize your data? It is required before running this function\n",
      "2021-10-04 10:48:24 INFO After filtering, 280 remain.\n"
     ]
    }
   ],
   "source": [
    "ages=ca.read_amplicon('/Users/amnon/Projects/human-baby-azithromycin/all.biom',\n",
    "                      '/Users/amnon/Projects/human-baby-azithromycin/map.txt',\n",
    "                      normalize=100, min_reads=10)"
   ]
  },
  {
   "cell_type": "code",
   "execution_count": 42,
   "metadata": {},
   "outputs": [],
   "source": [
    "ages=ages.filter_samples('non_intervention_antibiotics_days_0_to_14','yes',negate=True)\n",
    "ages=ages.filter_samples('non_intervention_antibiotics_pre_enrolment','yes',negate=True)\n",
    "ages=ages.filter_samples('study_day',14,negate=True)\n",
    "ages.sample_metadata['group']='adult'\n",
    "ages.sample_metadata.loc[ages.sample_metadata['study_day']==0,'group']='infant'\n"
   ]
  },
  {
   "cell_type": "code",
   "execution_count": 43,
   "metadata": {},
   "outputs": [
    {
     "name": "stdout",
     "output_type": "stream",
     "text": [
      "2021-10-04 10:48:26 INFO 124 samples with both values\n",
      "2021-10-04 10:48:26 INFO After filtering, 902 remain.\n",
      "2021-10-04 10:48:26 INFO 40 samples with value 1 (['adult'])\n",
      "2021-10-04 10:48:26 INFO number of higher in adult: 406. number of higher in infant : 55. total 461\n"
     ]
    }
   ],
   "source": [
    "dd2=ages.diff_abundance('group','adult','infant',random_seed=2020)"
   ]
  },
  {
   "cell_type": "code",
   "execution_count": 44,
   "metadata": {},
   "outputs": [
    {
     "name": "stdout",
     "output_type": "stream",
     "text": [
      "Home, adult: intersection 1 (non-intersect 7)\n",
      "NOT Home, adult: intersection 4 (non-intersect 3)\n",
      "big circle should be 406\n"
     ]
    },
    {
     "data": {
      "image/png": "[encoded data removed]",
      "text/plain": [
       "<Figure size 432x288 with 1 Axes>"
      ]
     },
     "metadata": {},
     "output_type": "display_data"
    }
   ],
   "source": [
    "f=plot_venn_group(dd_twin,'Home',dd2,'adult')\n",
    "f.savefig('figures/venn-india-adult.pdf')"
   ]
  },
  {
   "cell_type": "code",
   "execution_count": 45,
   "metadata": {},
   "outputs": [
    {
     "name": "stdout",
     "output_type": "stream",
     "text": [
      "Home, infant: intersection 6 (non-intersect 2)\n",
      "NOT Home, infant: intersection 0 (non-intersect 7)\n",
      "big circle should be 55\n"
     ]
    },
    {
     "data": {
      "image/png": "[encoded data removed]",
      "text/plain": [
       "<Figure size 432x288 with 1 Axes>"
      ]
     },
     "metadata": {},
     "output_type": "display_data"
    }
   ],
   "source": [
    "f=plot_venn_group(dd_twin,'Home',dd2,'infant')\n",
    "f.savefig('figures/venn-india-infant.pdf')"
   ]
  },
  {
   "cell_type": "markdown",
   "metadata": {},
   "source": [
    "# variation in microbiome lps immunogenicity contributes to autoimmunity in humans\n",
    "expid: 241, located in: human-three-country"
   ]
  },
  {
   "cell_type": "code",
   "execution_count": 63,
   "metadata": {},
   "outputs": [],
   "source": [
    "ca.set_log_level('ERROR')\n",
    "daib=ca.read_amplicon('/Users/amnon/Projects/human-three-country/all.biom',\n",
    "                      '/Users/amnon/Projects/human-three-country/meta.tsv',\n",
    "                      normalize=100, min_reads=10)\n",
    "ca.set_log_level('INFO')"
   ]
  },
  {
   "cell_type": "code",
   "execution_count": 64,
   "metadata": {},
   "outputs": [],
   "source": [
    "daib=daib.filter_samples('age_at_collection',None)"
   ]
  },
  {
   "cell_type": "markdown",
   "metadata": {},
   "source": [
    "## single coutries\n",
    "## Russia"
   ]
  },
  {
   "cell_type": "code",
   "execution_count": 65,
   "metadata": {},
   "outputs": [
    {
     "name": "stdout",
     "output_type": "stream",
     "text": [
      "2021-10-04 10:53:31 INFO After filtering, 3428 remain.\n",
      "2021-10-04 10:53:33 INFO Positive correlated features : 988. Negative correlated features : 124. total 1112\n"
     ]
    }
   ],
   "source": [
    "tt=daib.filter_samples('country','RUS')\n",
    "dd2=tt.correlation('age_at_collection',random_seed=2020)"
   ]
  },
  {
   "cell_type": "code",
   "execution_count": 66,
   "metadata": {},
   "outputs": [
    {
     "name": "stdout",
     "output_type": "stream",
     "text": [
      "Home, age_at_collection: intersection 0 (non-intersect 8)\n",
      "NOT Home, age_at_collection: intersection 4 (non-intersect 3)\n",
      "big circle should be 988\n"
     ]
    },
    {
     "data": {
      "image/png": "[encoded data removed]",
      "text/plain": [
       "<Figure size 432x288 with 1 Axes>"
      ]
     },
     "metadata": {},
     "output_type": "display_data"
    }
   ],
   "source": [
    "f=plot_venn_group(dd_twin,'Home',dd2,'age_at_collection')\n",
    "f.savefig('figures/venn-threecountries-russia-old.pdf')"
   ]
  },
  {
   "cell_type": "code",
   "execution_count": 67,
   "metadata": {},
   "outputs": [
    {
     "name": "stdout",
     "output_type": "stream",
     "text": [
      "Home, Anti-age_at_collection: intersection 4 (non-intersect 4)\n",
      "NOT Home, Anti-age_at_collection: intersection 0 (non-intersect 7)\n",
      "big circle should be 124\n"
     ]
    },
    {
     "data": {
      "image/png": "[encoded data removed]",
      "text/plain": [
       "<Figure size 432x288 with 1 Axes>"
      ]
     },
     "metadata": {},
     "output_type": "display_data"
    }
   ],
   "source": [
    "f=plot_venn_group(dd_twin,'Home',dd2,'Anti-age_at_collection')\n",
    "f.savefig('figures/venn-threecountries-russia-young.pdf')"
   ]
  },
  {
   "cell_type": "markdown",
   "metadata": {},
   "source": [
    "### Estonia\n"
   ]
  },
  {
   "cell_type": "code",
   "execution_count": 68,
   "metadata": {},
   "outputs": [
    {
     "name": "stdout",
     "output_type": "stream",
     "text": [
      "2021-10-04 10:53:56 INFO After filtering, 4151 remain.\n",
      "2021-10-04 10:54:00 INFO Positive correlated features : 962. Negative correlated features : 320. total 1282\n"
     ]
    }
   ],
   "source": [
    "tt=daib.filter_samples('country','EST')\n",
    "dd2=tt.correlation('age_at_collection',random_seed=2020)"
   ]
  },
  {
   "cell_type": "code",
   "execution_count": 69,
   "metadata": {},
   "outputs": [
    {
     "name": "stdout",
     "output_type": "stream",
     "text": [
      "Home, age_at_collection: intersection 2 (non-intersect 6)\n",
      "NOT Home, age_at_collection: intersection 5 (non-intersect 2)\n",
      "big circle should be 962\n"
     ]
    },
    {
     "data": {
      "image/png": "[encoded data removed]",
      "text/plain": [
       "<Figure size 432x288 with 1 Axes>"
      ]
     },
     "metadata": {},
     "output_type": "display_data"
    }
   ],
   "source": [
    "f=plot_venn_group(dd_twin,'Home',dd2,'age_at_collection')\n",
    "f.savefig('figures/venn-threecountries-estonia-old.pdf')"
   ]
  },
  {
   "cell_type": "code",
   "execution_count": 70,
   "metadata": {},
   "outputs": [
    {
     "name": "stdout",
     "output_type": "stream",
     "text": [
      "Home, Anti-age_at_collection: intersection 3 (non-intersect 5)\n",
      "NOT Home, Anti-age_at_collection: intersection 0 (non-intersect 7)\n",
      "big circle should be 320\n"
     ]
    },
    {
     "data": {
      "image/png": "[encoded data removed]",
      "text/plain": [
       "<Figure size 432x288 with 1 Axes>"
      ]
     },
     "metadata": {},
     "output_type": "display_data"
    }
   ],
   "source": [
    "f=plot_venn_group(dd_twin,'Home',dd2,'Anti-age_at_collection')\n",
    "f.savefig('figures/venn-threecountries-estonia-young.pdf')"
   ]
  },
  {
   "cell_type": "markdown",
   "metadata": {},
   "source": [
    "### Finland"
   ]
  },
  {
   "cell_type": "code",
   "execution_count": 71,
   "metadata": {},
   "outputs": [
    {
     "name": "stdout",
     "output_type": "stream",
     "text": [
      "2021-10-04 10:55:24 INFO After filtering, 3493 remain.\n",
      "2021-10-04 10:55:27 INFO Positive correlated features : 774. Negative correlated features : 199. total 973\n"
     ]
    }
   ],
   "source": [
    "tt=daib.filter_samples('country','FIN')\n",
    "dd2=tt.correlation('age_at_collection',random_seed=2020)"
   ]
  },
  {
   "cell_type": "code",
   "execution_count": 73,
   "metadata": {},
   "outputs": [
    {
     "name": "stdout",
     "output_type": "stream",
     "text": [
      "Home, age_at_collection: intersection 2 (non-intersect 6)\n",
      "NOT Home, age_at_collection: intersection 4 (non-intersect 3)\n",
      "big circle should be 774\n"
     ]
    },
    {
     "data": {
      "image/png": "[encoded data removed]",
      "text/plain": [
       "<Figure size 432x288 with 1 Axes>"
      ]
     },
     "metadata": {},
     "output_type": "display_data"
    }
   ],
   "source": [
    "f=plot_venn_group(dd_twin,'Home',dd2,'age_at_collection')\n",
    "f.savefig('figures/venn-threecountries-finland-old.pdf')"
   ]
  },
  {
   "cell_type": "code",
   "execution_count": 74,
   "metadata": {},
   "outputs": [
    {
     "name": "stdout",
     "output_type": "stream",
     "text": [
      "Home, Anti-age_at_collection: intersection 3 (non-intersect 5)\n",
      "NOT Home, Anti-age_at_collection: intersection 0 (non-intersect 7)\n",
      "big circle should be 199\n"
     ]
    },
    {
     "data": {
      "image/png": "[encoded data removed]",
      "text/plain": [
       "<Figure size 432x288 with 1 Axes>"
      ]
     },
     "metadata": {},
     "output_type": "display_data"
    }
   ],
   "source": [
    "f=plot_venn_group(dd_twin,'Home',dd2,'Anti-age_at_collection')\n",
    "f.savefig('figures/venn-threecountries-finland-young.pdf')"
   ]
  },
  {
   "cell_type": "code",
   "execution_count": null,
   "metadata": {},
   "outputs": [],
   "source": []
  }
 ],
 "metadata": {
  "kernelspec": {
   "display_name": "Python 3",
   "language": "python",
   "name": "python3"
  },
  "language_info": {
   "codemirror_mode": {
    "name": "ipython",
    "version": 3
   },
   "file_extension": ".py",
   "mimetype": "text/x-python",
   "name": "python",
   "nbconvert_exporter": "python",
   "pygments_lexer": "ipython3",
   "version": "3.9.5"
  }
 },
 "nbformat": 4,
 "nbformat_minor": 4
}
