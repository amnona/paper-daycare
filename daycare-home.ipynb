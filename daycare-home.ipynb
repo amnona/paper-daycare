{
 "cells": [
  {
   "cell_type": "code",
   "execution_count": 81,
   "metadata": {},
   "outputs": [],
   "source": [
    "import calour as ca\n",
    "import calour_utils as cu"
   ]
  },
  {
   "cell_type": "code",
   "execution_count": 82,
   "metadata": {},
   "outputs": [],
   "source": [
    "import matplotlib.pyplot as plt\n",
    "%matplotlib inline\n",
    "import numpy as np\n",
    "import matplotlib as mpl\n",
    "import pandas as pd\n",
    "import scipy as sp"
   ]
  },
  {
   "cell_type": "code",
   "execution_count": 83,
   "metadata": {},
   "outputs": [
    {
     "data": {
      "text/plain": [
       "'/Users/amnon/git/paper-daycare'"
      ]
     },
     "execution_count": 83,
     "metadata": {},
     "output_type": "execute_result"
    }
   ],
   "source": [
    "pwd"
   ]
  },
  {
   "cell_type": "code",
   "execution_count": 84,
   "metadata": {},
   "outputs": [],
   "source": [
    "ca.set_log_level(11)"
   ]
  },
  {
   "cell_type": "code",
   "execution_count": 85,
   "metadata": {},
   "outputs": [],
   "source": [
    "db=ca.database._get_database_class('dbbact')"
   ]
  },
  {
   "cell_type": "markdown",
   "metadata": {},
   "source": [
    "# Load the data"
   ]
  },
  {
   "cell_type": "code",
   "execution_count": 86,
   "metadata": {},
   "outputs": [
    {
     "name": "stdout",
     "output_type": "stream",
     "text": [
      "2021-07-03 19:46:05 INFO loaded 268 samples, 928 features\n",
      "2021-07-03 19:46:05 WARNING Do you forget to normalize your data? It is required before running this function\n",
      "2021-07-03 19:46:05 INFO After filtering, 268 remain.\n"
     ]
    }
   ],
   "source": [
    "gan=ca.read_amplicon('data/gan-normalized.biom','data/gan-normalized_sample.txt',feature_metadata_file='data/gan-normalized_feature.txt',min_reads=1000,normalize=10000)"
   ]
  },
  {
   "cell_type": "code",
   "execution_count": 87,
   "metadata": {},
   "outputs": [],
   "source": [
    "gan=gan.sort_samples('pn_ID')\n",
    "gan=gan.sort_samples('Time')"
   ]
  },
  {
   "cell_type": "markdown",
   "metadata": {},
   "source": [
    "# Age matching home care to day care samples\n",
    "## One sample per child\n",
    "### Start from timepoint5, look for a match < threshold (1 month) and throw away all other samples of that child\n",
    "redo until all samples finished"
   ]
  },
  {
   "cell_type": "code",
   "execution_count": 92,
   "metadata": {},
   "outputs": [],
   "source": [
    "home = gan.filter_samples('kindergarten','Home')\n",
    "daycare = gan.filter_samples('kindergarten','Home',negate=True)\n",
    "\n",
    "dc=daycare.sort_samples('Time')\n",
    "ndc=gan.copy()\n",
    "ndc.sample_metadata['pair_id']=''\n",
    "keep=[]\n",
    "# maximal age difference between matched samples (months)\n",
    "max_age_diff=1\n",
    "\n",
    "found_any = True\n",
    "while found_any:\n",
    "    found_any = False\n",
    "    for cid,cexp in home.iterate():\n",
    "        cage = cexp.sample_metadata['age_months'].values[0]\n",
    "        tpos = np.where(np.abs(dc.sample_metadata['age_months']-cage)<max_age_diff)[0]\n",
    "        if len(tpos)==0:\n",
    "            continue\n",
    "        found_any = True\n",
    "        ckeep = dc.sample_metadata.iloc[tpos[0]]\n",
    "        ckid = ckeep['_sample_id']\n",
    "        keep.append(ckid)\n",
    "        ndc.sample_metadata.loc[cid,'pair_id'] = cid\n",
    "        ndc.sample_metadata.loc[ckid, 'pair_id'] = cid\n",
    "        dc=dc.filter_samples('pn_ID',ckeep['pn_ID'],negate=True)\n",
    "    "
   ]
  },
  {
   "cell_type": "markdown",
   "metadata": {},
   "source": [
    "#### sanity check - compare mean and median ages of the 2 groups"
   ]
  },
  {
   "cell_type": "code",
   "execution_count": 93,
   "metadata": {},
   "outputs": [
    {
     "name": "stdout",
     "output_type": "stream",
     "text": [
      "we have 24 individuals in home\n",
      "home care mean 14.386301 median 12.361644\n",
      "we have 60 individuals in daycare, matching 24 homecare\n",
      "day care mean 14.269863 median 12.016438\n"
     ]
    }
   ],
   "source": [
    "tt=ndc.filter_samples('pair_id','',negate=True)\n",
    "ttt=tt.filter_samples('kindergarten','Home')\n",
    "print('we have %d individuals in home' % len(ttt.sample_metadata))\n",
    "print('home care mean %f median %f' % (np.mean(ttt.sample_metadata['age_months']), np.median(ttt.sample_metadata['age_months'])))\n",
    "ttt=tt.filter_samples('kindergarten','Home',negate=True)\n",
    "print('we have %d individuals in daycare, matching %d homecare' % (len(ttt.sample_metadata), len(ttt.sample_metadata['pair_id'].unique())))\n",
    "ttt=ttt.aggregate_by_metadata('pair_id')\n",
    "print('day care mean %f median %f' % (np.mean(ttt.sample_metadata['age_months']), np.median(ttt.sample_metadata['age_months'])))"
   ]
  },
  {
   "cell_type": "code",
   "execution_count": 95,
   "metadata": {},
   "outputs": [
    {
     "data": {
      "image/png": "[encoded data removed]",
      "text/plain": [
       "<Figure size 432x288 with 1 Axes>"
      ]
     },
     "metadata": {
      "needs_background": "light"
     },
     "output_type": "display_data"
    }
   ],
   "source": [
    "f=plt.figure()\n",
    "tt=ndc.filter_samples('pair_id','',negate=True)\n",
    "ttt=tt.filter_samples('kindergarten','Home')\n",
    "ids = ttt.sample_metadata.pair_id.unique()\n",
    "ttt=tt.filter_samples('kindergarten','Home',negate=True)\n",
    "# for the legend\n",
    "plt.plot([1],[-1],'.r')\n",
    "plt.plot([1],[-1],'.b')\n",
    "for cpos,cid in enumerate(ids):\n",
    "    rr=ttt.filter_samples('pair_id',cid)\n",
    "    plt.plot([cpos]*len(rr.sample_metadata),rr.sample_metadata['age_months'],'.b')\n",
    "ttt=tt.filter_samples('kindergarten','Home')\n",
    "for cpos,cid in enumerate(ids):\n",
    "    rr=ttt.filter_samples('pair_id',cid)\n",
    "    plt.plot([cpos]*len(rr.sample_metadata),rr.sample_metadata['age_months'],'.r')\n",
    "plt.ylabel('age (months)')\n",
    "plt.ylim([0,35])\n",
    "plt.xlabel('participant')\n",
    "plt.xticks([])\n",
    "plt.legend(['home care','day care'])\n",
    "f.savefig('./supplementary/twins-for-home-daycare-age-matches.pdf')"
   ]
  },
  {
   "cell_type": "code",
   "execution_count": 96,
   "metadata": {},
   "outputs": [
    {
     "data": {
      "text/plain": [
       "1"
      ]
     },
     "execution_count": 96,
     "metadata": {},
     "output_type": "execute_result"
    }
   ],
   "source": [
    "# and make sure we have 1 sample from each participant\n",
    "tt=ndc.filter_samples('pair_id','',negate=True)\n",
    "np.max(tt.sample_metadata.pn_ID.value_counts())"
   ]
  },
  {
   "cell_type": "markdown",
   "metadata": {},
   "source": [
    "### Save the experiment with twinIDs for Maaslin"
   ]
  },
  {
   "cell_type": "code",
   "execution_count": 97,
   "metadata": {},
   "outputs": [],
   "source": [
    "xx=ndc.filter_samples('pair_id','',negate=True)\n",
    "xx.save('./twins-for-home-daycare-comparison')"
   ]
  },
  {
   "cell_type": "code",
   "execution_count": 98,
   "metadata": {},
   "outputs": [
    {
     "name": "stdout",
     "output_type": "stream",
     "text": [
      "2021-07-03 19:53:29 INFO After filtering, 928 remain.\n",
      "2021-07-03 19:53:29 INFO 24 samples with value 1 (['Home'])\n",
      "2021-07-03 19:53:30 INFO number of higher in Home: 8. number of higher in NOT Home : 7. total 15\n"
     ]
    }
   ],
   "source": [
    "dd_twin=ca.analysis.diff_abundance_paired(ndc,'pair_id','kindergarten','Home',random_seed=2020,alpha=0.1)"
   ]
  },
  {
   "cell_type": "code",
   "execution_count": 99,
   "metadata": {},
   "outputs": [],
   "source": [
    "dd_twin.save('./supplementary/home-vs-daycare-twins')"
   ]
  },
  {
   "cell_type": "code",
   "execution_count": 100,
   "metadata": {},
   "outputs": [
    {
     "name": "stdout",
     "output_type": "stream",
     "text": [
      "2021-07-03 19:53:45 INFO After filtering, 928 remain.\n",
      "2021-07-03 19:53:45 INFO 24 samples with value 1 (['Home'])\n",
      "2021-07-03 19:53:46 INFO number of higher in Home: 10. number of higher in NOT Home : 25. total 35\n"
     ]
    }
   ],
   "source": [
    "dd_twin25=ca.analysis.diff_abundance_paired(ndc,'pair_id','kindergarten','Home',random_seed=2020,alpha=0.25)"
   ]
  },
  {
   "cell_type": "code",
   "execution_count": 101,
   "metadata": {},
   "outputs": [
    {
     "name": "stdout",
     "output_type": "stream",
     "text": [
      "2021-07-03 19:53:57 WARNING You need to set up jupyter notebook with `%matplotlib notebook`\n"
     ]
    },
    {
     "data": {
      "application/vnd.jupyter.widget-view+json": {
       "model_id": "ac2f14af131a49a7be1597230f9c306f",
       "version_major": 2,
       "version_minor": 0
      },
      "text/plain": [
       "Label(value='0 features are selected')"
      ]
     },
     "metadata": {},
     "output_type": "display_data"
    },
    {
     "data": {
      "application/vnd.jupyter.widget-view+json": {
       "model_id": "3c2b22e9445c4af1baa1710fcda98f3f",
       "version_major": 2,
       "version_minor": 0
      },
      "text/plain": [
       "HBox(children=(Text(value='-', description='Sample ID', layout=Layout(width='100%'), placeholder='Sample ID'),…"
      ]
     },
     "metadata": {},
     "output_type": "display_data"
    },
    {
     "data": {
      "application/vnd.jupyter.widget-view+json": {
       "model_id": "5331a85b3cc046a09987a404d48aee13",
       "version_major": 2,
       "version_minor": 0
      },
      "text/plain": [
       "HBox(children=(Dropdown(layout=Layout(width='20%'), options=('BarcodeSequence', 'LinkerPrimerSequence', 'Datab…"
      ]
     },
     "metadata": {},
     "output_type": "display_data"
    },
    {
     "data": {
      "application/vnd.jupyter.widget-view+json": {
       "model_id": "3b2b00d56fa34acfb1f006a86d16cebf",
       "version_major": 2,
       "version_minor": 0
      },
      "text/plain": [
       "HBox(children=(Dropdown(layout=Layout(width='20%'), options=('Taxon', 'Confidence', 'SV_number', '_feature_id'…"
      ]
     },
     "metadata": {},
     "output_type": "display_data"
    },
    {
     "data": {
      "application/vnd.jupyter.widget-view+json": {
       "model_id": "ad03c633a406454487d60317f096d01d",
       "version_major": 2,
       "version_minor": 0
      },
      "text/plain": [
       "HBox(children=(Button(description='print axes ranges', style=ButtonStyle(), tooltip='Print the x axis and y ax…"
      ]
     },
     "metadata": {},
     "output_type": "display_data"
    },
    {
     "data": {
      "application/vnd.jupyter.widget-view+json": {
       "model_id": "dfffd693b1fc4605afde5bf8083f8ac0",
       "version_major": 2,
       "version_minor": 0
      },
      "text/plain": [
       "HTML(value='no annotation found', layout=Layout(height='100px', overflow_y='auto'))"
      ]
     },
     "metadata": {},
     "output_type": "display_data"
    },
    {
     "data": {
      "text/plain": [
       "<calour.heatmap.plotgui_jupyter.PlotGUI_Jupyter at 0x7f8fb5e03c10>"
      ]
     },
     "execution_count": 101,
     "metadata": {},
     "output_type": "execute_result"
    },
    {
     "data": {
      "image/png": "[encoded data removed]",
      "text/plain": [
       "<Figure size 432x288 with 4 Axes>"
      ]
     },
     "metadata": {
      "needs_background": "light"
     },
     "output_type": "display_data"
    }
   ],
   "source": [
    "gan.filter_ids(dd_twin.feature_metadata.index).sort_samples('Time').plot(gui='jupyter',sample_field='Time')"
   ]
  },
  {
   "cell_type": "code",
   "execution_count": 104,
   "metadata": {},
   "outputs": [],
   "source": [
    "# create the colors for the top bar:\n",
    "gan.sample_metadata['age_rounded'] = gan.sample_metadata['age_months'].astype(int)\n",
    "gan.sample_metadata['age_rounded_s'] = gan.sample_metadata['age_rounded'].astype(str)\n",
    "ages = gan.sample_metadata['age_rounded'].unique()\n",
    "ages.sort()\n",
    "cdict={}\n",
    "for cage in ages:\n",
    "    cinten = 0.2+(cage-ages[0])*0.8/(ages[-1]-ages[0])\n",
    "    cdict[str(cage)] = (cinten,0,cinten,1)"
   ]
  },
  {
   "cell_type": "code",
   "execution_count": 105,
   "metadata": {},
   "outputs": [],
   "source": [
    "# taxonomy colors\n",
    "\n",
    "taxcolors={}\n",
    "taxcolors['_c__Clostridia']='g'\n",
    "taxcolors['_c__Bacteroidia']='b'\n",
    "taxcolors['_c__Gammaproteobacteria']='r'\n",
    "taxcolors['_c__Bacilli']='y'\n",
    "taxcolors['_c__Erysipelotrichi']='cyan'\n",
    "taxcolors['_c__Coriobacteriia']='magenta'\n",
    "taxcolors['_c__Betaproteobacteria']='black'\n",
    "taxcolors['Other']='grey'\n",
    "\n",
    "alltaxcolors={}\n",
    "for ctax in gan.feature_metadata['class'].unique():\n",
    "    alltaxcolors[ctax]='grey'\n",
    "    \n",
    "alltaxcolors.update(taxcolors)\n"
   ]
  },
  {
   "cell_type": "code",
   "execution_count": 114,
   "metadata": {},
   "outputs": [
    {
     "name": "stdout",
     "output_type": "stream",
     "text": [
      "2021-07-03 19:58:20 WARNING You need to set up jupyter notebook with `%matplotlib notebook`\n"
     ]
    },
    {
     "data": {
      "application/vnd.jupyter.widget-view+json": {
       "model_id": "e23bd50bcea94c0a868530eeacee1e23",
       "version_major": 2,
       "version_minor": 0
      },
      "text/plain": [
       "Label(value='0 features are selected')"
      ]
     },
     "metadata": {},
     "output_type": "display_data"
    },
    {
     "data": {
      "application/vnd.jupyter.widget-view+json": {
       "model_id": "f50300d4bed94254b586b8f153a7d377",
       "version_major": 2,
       "version_minor": 0
      },
      "text/plain": [
       "HBox(children=(Text(value='-', description='Sample ID', layout=Layout(width='100%'), placeholder='Sample ID'),…"
      ]
     },
     "metadata": {},
     "output_type": "display_data"
    },
    {
     "data": {
      "application/vnd.jupyter.widget-view+json": {
       "model_id": "ff6974eb45534f54a902801b3f311d60",
       "version_major": 2,
       "version_minor": 0
      },
      "text/plain": [
       "HBox(children=(Dropdown(layout=Layout(width='20%'), options=('BarcodeSequence', 'LinkerPrimerSequence', 'Datab…"
      ]
     },
     "metadata": {},
     "output_type": "display_data"
    },
    {
     "data": {
      "application/vnd.jupyter.widget-view+json": {
       "model_id": "44fab02d59e040e09d7310c530923a08",
       "version_major": 2,
       "version_minor": 0
      },
      "text/plain": [
       "HBox(children=(Dropdown(layout=Layout(width='20%'), options=('Taxon', 'Confidence', 'SV_number', '_feature_id'…"
      ]
     },
     "metadata": {},
     "output_type": "display_data"
    },
    {
     "data": {
      "application/vnd.jupyter.widget-view+json": {
       "model_id": "3f605cec997f49a4af07d8660e39ba0f",
       "version_major": 2,
       "version_minor": 0
      },
      "text/plain": [
       "HBox(children=(Button(description='print axes ranges', style=ButtonStyle(), tooltip='Print the x axis and y ax…"
      ]
     },
     "metadata": {},
     "output_type": "display_data"
    },
    {
     "data": {
      "application/vnd.jupyter.widget-view+json": {
       "model_id": "b1af539b85f54efaa77bba4f11f1c878",
       "version_major": 2,
       "version_minor": 0
      },
      "text/plain": [
       "HTML(value='no annotation found', layout=Layout(height='100px', overflow_y='auto'))"
      ]
     },
     "metadata": {},
     "output_type": "display_data"
    },
    {
     "data": {
      "image/png": "[encoded data removed]",
      "text/plain": [
       "<Figure size 432x288 with 4 Axes>"
      ]
     },
     "metadata": {
      "needs_background": "light"
     },
     "output_type": "display_data"
    }
   ],
   "source": [
    "f=gan.filter_ids(dd_twin.feature_metadata.index).sort_samples('age_months').sort_samples('kindergarten').plot(gui='jupyter',sample_field='kindergarten', barx_fields=['age_rounded_s'], barx_label=False, barx_colors=cdict, bary_fields=['class'],bary_colors=alltaxcolors, bary_label=False)"
   ]
  },
  {
   "cell_type": "code",
   "execution_count": 115,
   "metadata": {},
   "outputs": [],
   "source": [
    "f.figure.savefig('figures/heatmap-daycare-homecare.pdf')"
   ]
  },
  {
   "cell_type": "markdown",
   "metadata": {},
   "source": [
    "## And save the legend for the taxonomy colors\n",
    "(we cut it from this figure)"
   ]
  },
  {
   "cell_type": "code",
   "execution_count": 116,
   "metadata": {},
   "outputs": [
    {
     "data": {
      "image/png": "[encoded data removed]",
      "text/plain": [
       "<Figure size 432x288 with 1 Axes>"
      ]
     },
     "metadata": {
      "needs_background": "light"
     },
     "output_type": "display_data"
    }
   ],
   "source": [
    "f=plt.figure()\n",
    "labels=[]\n",
    "for ck,cv in taxcolors.items():\n",
    "    plt.plot([0],[0],'o',c=cv)\n",
    "    labels.append(ck.split('_')[-1])\n",
    "plt.legend(labels)\n",
    "f.savefig('figures/daycare-homecare-tax-colors.pdf')"
   ]
  },
  {
   "cell_type": "markdown",
   "metadata": {},
   "source": [
    "# look at experiments showing the age<1 enrichment"
   ]
  },
  {
   "cell_type": "code",
   "execution_count": 123,
   "metadata": {},
   "outputs": [],
   "source": [
    "import matplotlib_venn\n",
    "def plot_venn_group(ganexp, gandir, otherexp, otherdir):\n",
    "    odir_features=otherexp.feature_metadata[otherexp.feature_metadata._calour_direction == otherdir].index.values\n",
    "    gandir1 = ganexp.filter_by_metadata('_calour_direction',[gandir],axis='f')\n",
    "    size1=len(set(gandir1.feature_metadata.index.values).intersection(odir_features))\n",
    "    print('%s, %s: intersection %d (non-intersect %d)' % (gandir, otherdir, size1, len(gandir1.feature_metadata)-size1))\n",
    "    gandir2 = ganexp.filter_by_metadata('_calour_direction',[gandir],negate=True,axis='f')\n",
    "    size2=len(set(gandir2.feature_metadata.index.values).intersection(odir_features))\n",
    "    print('NOT %s, %s: intersection %d (non-intersect %d)' % (gandir, otherdir, size2, len(gandir2.feature_metadata)-size2))\n",
    "    f=plt.figure()\n",
    "#     matplotlib_venn.venn3({'101':size1, '011': size2, '001':len(odir_features),\n",
    "    print('big circle should be %d' % len(odir_features))\n",
    "#     matplotlib_venn.venn3({'101':size1, '011': size2, '001':50,\n",
    "#                            '010': len(gandir2.feature_metadata)-size2,\n",
    "#                            '100':len(gandir1.feature_metadata)-size1})\n",
    "#                            set_labels=['Home care', 'Day care'])\n",
    "    v=matplotlib_venn.venn3({'101':size1, '011': size2, '001':50,\n",
    "                           '010': len(gandir2.feature_metadata)-size2,\n",
    "                           '100':len(gandir1.feature_metadata)-size1},\n",
    "                           set_labels=['', ''])\n",
    "    aa=v.get_label_by_id('101')\n",
    "    if aa is not None:\n",
    "        aa.set_text('')\n",
    "    v.get_label_by_id('100').set_text('')\n",
    "    aa=v.get_label_by_id('011')\n",
    "    if aa is not None:\n",
    "        aa.set_text('')\n",
    "    v.get_label_by_id('001').set_text('')\n",
    "    aa=v.get_label_by_id('010')\n",
    "    if aa is not None:\n",
    "        aa.set_text('')\n",
    "    plt.title('ASVs higher in %s' % otherdir)\n",
    "    return f"
   ]
  },
  {
   "cell_type": "markdown",
   "metadata": {},
   "source": [
    "## Changes in the intestinal microbiota following the administration of azithromycin in a randomised placebo-controlled trial among infants in south India\n",
    "expid: , 339, located in: human-baby-azithromycin"
   ]
  },
  {
   "cell_type": "code",
   "execution_count": 124,
   "metadata": {},
   "outputs": [
    {
     "name": "stdout",
     "output_type": "stream",
     "text": [
      "2021-07-03 20:03:01 INFO loaded 280 samples, 996 features\n",
      "2021-07-03 20:03:01 WARNING Do you forget to normalize your data? It is required before running this function\n",
      "2021-07-03 20:03:01 INFO After filtering, 280 remain.\n"
     ]
    }
   ],
   "source": [
    "ages=ca.read_amplicon('/Users/amnon/Projects/human-baby-azithromycin/all.biom',\n",
    "                      '/Users/amnon/Projects/human-baby-azithromycin/map.txt',\n",
    "                      normalize=10000, min_reads=1000)"
   ]
  },
  {
   "cell_type": "code",
   "execution_count": 125,
   "metadata": {},
   "outputs": [],
   "source": [
    "ages=ages.filter_samples('non_intervention_antibiotics_days_0_to_14','yes',negate=True)\n",
    "ages=ages.filter_samples('non_intervention_antibiotics_pre_enrolment','yes',negate=True)\n",
    "ages=ages.filter_samples('study_day','14',negate=True)\n",
    "ages.sample_metadata['group']='adult'\n",
    "ages.sample_metadata.loc[ages.sample_metadata['study_day']==0,'group']='infant'\n"
   ]
  },
  {
   "cell_type": "code",
   "execution_count": 126,
   "metadata": {},
   "outputs": [
    {
     "name": "stdout",
     "output_type": "stream",
     "text": [
      "2021-07-03 20:03:25 INFO 124 samples with both values\n",
      "2021-07-03 20:03:25 INFO After filtering, 902 remain.\n",
      "2021-07-03 20:03:25 INFO 40 samples with value 1 (['adult'])\n",
      "2021-07-03 20:03:25 INFO number of higher in adult: 406. number of higher in infant : 55. total 461\n"
     ]
    }
   ],
   "source": [
    "dd2=ages.diff_abundance('group','adult','infant',random_seed=2020)"
   ]
  },
  {
   "cell_type": "code",
   "execution_count": 128,
   "metadata": {},
   "outputs": [
    {
     "name": "stdout",
     "output_type": "stream",
     "text": [
      "Home, adult: intersection 1 (non-intersect 7)\n",
      "NOT Home, adult: intersection 4 (non-intersect 3)\n",
      "big circle should be 406\n"
     ]
    },
    {
     "data": {
      "image/png": "[encoded data removed]",
      "text/plain": [
       "<Figure size 432x288 with 1 Axes>"
      ]
     },
     "metadata": {},
     "output_type": "display_data"
    }
   ],
   "source": [
    "f=plot_venn_group(dd_twin,'Home',dd2,'adult')\n",
    "f.savefig('figures/venn-india-adult.pdf')"
   ]
  },
  {
   "cell_type": "code",
   "execution_count": 129,
   "metadata": {},
   "outputs": [
    {
     "name": "stdout",
     "output_type": "stream",
     "text": [
      "Home, infant: intersection 6 (non-intersect 2)\n",
      "NOT Home, infant: intersection 0 (non-intersect 7)\n",
      "big circle should be 55\n"
     ]
    },
    {
     "data": {
      "image/png": "[encoded data removed]",
      "text/plain": [
       "<Figure size 432x288 with 1 Axes>"
      ]
     },
     "metadata": {},
     "output_type": "display_data"
    }
   ],
   "source": [
    "f=plot_venn_group(dd_twin,'Home',dd2,'infant')\n",
    "f.savefig('figures/venn-india-infant.pdf')"
   ]
  },
  {
   "cell_type": "markdown",
   "metadata": {},
   "source": [
    "# variation in microbiome lps immunogenicity contributes to autoimmunity in humans\n",
    "expid: 241, located in: human-three-country"
   ]
  },
  {
   "cell_type": "code",
   "execution_count": 136,
   "metadata": {},
   "outputs": [],
   "source": [
    "ca.set_log_level('ERROR')\n",
    "daib=ca.read_amplicon('/Users/amnon/Projects/human-three-country/all.biom',\n",
    "                      '/Users/amnon/Projects/human-three-country/meta.tsv',\n",
    "                      normalize=10000, min_reads=1000)\n",
    "ca.set_log_level('INFO')"
   ]
  },
  {
   "cell_type": "code",
   "execution_count": 137,
   "metadata": {},
   "outputs": [],
   "source": [
    "daib=daib.filter_samples('age_at_collection',None)"
   ]
  },
  {
   "cell_type": "markdown",
   "metadata": {},
   "source": [
    "## single coutries\n",
    "## Russia"
   ]
  },
  {
   "cell_type": "code",
   "execution_count": 140,
   "metadata": {},
   "outputs": [
    {
     "name": "stdout",
     "output_type": "stream",
     "text": [
      "2021-07-03 20:08:36 INFO After filtering, 3428 remain.\n",
      "2021-07-03 20:08:38 INFO Positive correlated features : 988. Negative correlated features : 124. total 1112\n"
     ]
    }
   ],
   "source": [
    "tt=daib.filter_samples('country','RUS')\n",
    "dd2=tt.correlation('age_at_collection',random_seed=2020)"
   ]
  },
  {
   "cell_type": "code",
   "execution_count": 141,
   "metadata": {},
   "outputs": [
    {
     "name": "stdout",
     "output_type": "stream",
     "text": [
      "Home, age_at_collection: intersection 0 (non-intersect 8)\n",
      "NOT Home, age_at_collection: intersection 4 (non-intersect 3)\n",
      "big circle should be 988\n"
     ]
    },
    {
     "data": {
      "image/png": "[encoded data removed]",
      "text/plain": [
       "<Figure size 432x288 with 1 Axes>"
      ]
     },
     "metadata": {},
     "output_type": "display_data"
    }
   ],
   "source": [
    "f=plot_venn_group(dd_twin,'Home',dd2,'age_at_collection')\n",
    "f.savefig('figures/venn-threecountries-russia-old.pdf')"
   ]
  },
  {
   "cell_type": "code",
   "execution_count": 142,
   "metadata": {},
   "outputs": [
    {
     "name": "stdout",
     "output_type": "stream",
     "text": [
      "Home, Anti-age_at_collection: intersection 4 (non-intersect 4)\n",
      "NOT Home, Anti-age_at_collection: intersection 0 (non-intersect 7)\n",
      "big circle should be 124\n"
     ]
    },
    {
     "data": {
      "image/png": "[encoded data removed]",
      "text/plain": [
       "<Figure size 432x288 with 1 Axes>"
      ]
     },
     "metadata": {},
     "output_type": "display_data"
    }
   ],
   "source": [
    "f=plot_venn_group(dd_twin,'Home',dd2,'Anti-age_at_collection')\n",
    "f.savefig('figures/venn-threecountries-russia-young.pdf')"
   ]
  },
  {
   "cell_type": "markdown",
   "metadata": {},
   "source": [
    "### Estonia\n"
   ]
  },
  {
   "cell_type": "code",
   "execution_count": 143,
   "metadata": {},
   "outputs": [
    {
     "name": "stdout",
     "output_type": "stream",
     "text": [
      "2021-07-03 20:09:35 INFO After filtering, 4151 remain.\n",
      "2021-07-03 20:09:39 INFO Positive correlated features : 954. Negative correlated features : 311. total 1265\n"
     ]
    }
   ],
   "source": [
    "tt=daib.filter_samples('country','EST')\n",
    "dd2=tt.correlation('age_at_collection',random_seed=2020)"
   ]
  },
  {
   "cell_type": "code",
   "execution_count": 144,
   "metadata": {},
   "outputs": [
    {
     "name": "stdout",
     "output_type": "stream",
     "text": [
      "Home, age_at_collection: intersection 2 (non-intersect 6)\n",
      "NOT Home, age_at_collection: intersection 5 (non-intersect 2)\n",
      "big circle should be 954\n"
     ]
    },
    {
     "data": {
      "image/png": "[encoded data removed]",
      "text/plain": [
       "<Figure size 432x288 with 1 Axes>"
      ]
     },
     "metadata": {},
     "output_type": "display_data"
    }
   ],
   "source": [
    "f=plot_venn_group(dd_twin,'Home',dd2,'age_at_collection')\n",
    "f.savefig('figures/venn-threecountries-estonia-old.pdf')"
   ]
  },
  {
   "cell_type": "code",
   "execution_count": 145,
   "metadata": {},
   "outputs": [
    {
     "name": "stdout",
     "output_type": "stream",
     "text": [
      "Home, Anti-age_at_collection: intersection 3 (non-intersect 5)\n",
      "NOT Home, Anti-age_at_collection: intersection 0 (non-intersect 7)\n",
      "big circle should be 311\n"
     ]
    },
    {
     "data": {
      "image/png": "[encoded data removed]",
      "text/plain": [
       "<Figure size 432x288 with 1 Axes>"
      ]
     },
     "metadata": {},
     "output_type": "display_data"
    }
   ],
   "source": [
    "f=plot_venn_group(dd_twin,'Home',dd2,'Anti-age_at_collection')\n",
    "f.savefig('figures/venn-threecountries-estonia-young.pdf')"
   ]
  },
  {
   "cell_type": "markdown",
   "metadata": {},
   "source": [
    "### Finland"
   ]
  },
  {
   "cell_type": "code",
   "execution_count": 146,
   "metadata": {},
   "outputs": [
    {
     "name": "stdout",
     "output_type": "stream",
     "text": [
      "2021-07-03 20:10:29 INFO After filtering, 3491 remain.\n",
      "2021-07-03 20:10:32 INFO Positive correlated features : 766. Negative correlated features : 206. total 972\n"
     ]
    }
   ],
   "source": [
    "tt=daib.filter_samples('country','FIN')\n",
    "dd2=tt.correlation('age_at_collection',random_seed=2020)"
   ]
  },
  {
   "cell_type": "code",
   "execution_count": 147,
   "metadata": {},
   "outputs": [
    {
     "name": "stdout",
     "output_type": "stream",
     "text": [
      "Home, age_at_collection: intersection 2 (non-intersect 6)\n",
      "NOT Home, age_at_collection: intersection 4 (non-intersect 3)\n",
      "big circle should be 766\n"
     ]
    },
    {
     "data": {
      "image/png": "[encoded data removed]",
      "text/plain": [
       "<Figure size 432x288 with 1 Axes>"
      ]
     },
     "metadata": {},
     "output_type": "display_data"
    }
   ],
   "source": [
    "f=plot_venn_group(dd_twin,'Home',dd2,'age_at_collection')\n",
    "f.savefig('figures/venn-threecountries-finland-old.pdf')"
   ]
  },
  {
   "cell_type": "code",
   "execution_count": 148,
   "metadata": {},
   "outputs": [
    {
     "name": "stdout",
     "output_type": "stream",
     "text": [
      "Home, Anti-age_at_collection: intersection 3 (non-intersect 5)\n",
      "NOT Home, Anti-age_at_collection: intersection 0 (non-intersect 7)\n",
      "big circle should be 206\n"
     ]
    },
    {
     "data": {
      "image/png": "[encoded data removed]",
      "text/plain": [
       "<Figure size 432x288 with 1 Axes>"
      ]
     },
     "metadata": {},
     "output_type": "display_data"
    }
   ],
   "source": [
    "f=plot_venn_group(dd_twin,'Home',dd2,'Anti-age_at_collection')\n",
    "f.savefig('figures/venn-threecountries-finland-young.pdf')"
   ]
  },
  {
   "cell_type": "code",
   "execution_count": null,
   "metadata": {},
   "outputs": [],
   "source": []
  }
 ],
 "metadata": {
  "kernelspec": {
   "display_name": "Python 3",
   "language": "python",
   "name": "python3"
  },
  "language_info": {
   "codemirror_mode": {
    "name": "ipython",
    "version": 3
   },
   "file_extension": ".py",
   "mimetype": "text/x-python",
   "name": "python",
   "nbconvert_exporter": "python",
   "pygments_lexer": "ipython3",
   "version": "3.7.9"
  }
 },
 "nbformat": 4,
 "nbformat_minor": 4
}
